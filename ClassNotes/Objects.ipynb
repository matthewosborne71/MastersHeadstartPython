{
 "cells": [
  {
   "cell_type": "markdown",
   "metadata": {},
   "source": [
    "# Objects\n",
    "\n",
    "In this notebook we'll learn about how object-oriented programming works in python. \n",
    "\n",
    "## What are Objects and Classes?\n",
    "\n",
    "Before we get into the nitty gritty of object-oriented programming we should understand what that even means.\n",
    "\n",
    "So far our code has been built around functions and procedures (this is called procedure-oriented programming). In object-oriented programming you organize your code around classes and objects.\n",
    "\n",
    "Objects are data types that can contain both data (called attributes) and functions. We've already seen a couple types of objects. For example, a Graph object from `networkx`."
   ]
  },
  {
   "cell_type": "code",
   "execution_count": 58,
   "metadata": {},
   "outputs": [],
   "source": [
    "import networkx as nx\n",
    "import matplotlib.pyplot as plt"
   ]
  },
  {
   "cell_type": "code",
   "execution_count": 3,
   "metadata": {
    "collapsed": true
   },
   "outputs": [
    {
     "data": {
      "image/png": "[encoded data removed]",
      "text/plain": [
       "<Figure size 432x288 with 1 Axes>"
      ]
     },
     "metadata": {},
     "output_type": "display_data"
    },
    {
     "name": "stdout",
     "output_type": "stream",
     "text": [
      "[0, 1, 2, 3, 4, 5, 6, 7, 8, 9, 10, 11, 12, 13, 14, 15, 16, 17, 18, 19]\n",
      "\n",
      "\n",
      "[(0, 3), (0, 6), (1, 19), (2, 7), (3, 12), (3, 4), (3, 16), (4, 9), (5, 8), (5, 18), (6, 11), (6, 12), (6, 7), (7, 12), (8, 16), (8, 9), (8, 15), (8, 13), (10, 14), (11, 18), (11, 12), (12, 15), (14, 19), (14, 18), (15, 19)]\n",
      "\n",
      "\n",
      "G has 20 nodes. \n",
      "\n",
      "G has 25 edges.\n"
     ]
    }
   ],
   "source": [
    "# G is a networkx Graph object\n",
    "G = nx.erdos_renyi_graph(20,.15)\n",
    "nx.draw(G)\n",
    "plt.show()\n",
    "\n",
    "# Two examples of G's attributes are the nodes and edges\n",
    "print G.nodes\n",
    "print \"\\n\"\n",
    "print G.edges\n",
    "print \"\\n\"\n",
    "\n",
    "# Some examples of G's functions are number_of_nodes and number_of_edges\n",
    "print \"G has \" + str(G.number_of_nodes()) + \" nodes. \\n\"\n",
    "print \"G has \" + str(G.number_of_edges()) + \" edges.\""
   ]
  },
  {
   "cell_type": "markdown",
   "metadata": {},
   "source": [
    "When we say G is a Graph object. This is because G is an instance of `networkx`'s Graph class. A class is essentially an object recipe. In writing up a class we provide the computer a set of instructions as to what the object should be, should have, should be able to do, and how to create one.\n",
    "\n",
    "If this is confusing don't worry, right now we are dealing with somewhat abstract concepts. Everything should become more clear once we work through some examples."
   ]
  },
  {
   "cell_type": "code",
   "execution_count": 4,
   "metadata": {},
   "outputs": [],
   "source": [
    "# We'll start by making an empty class\n",
    "# to define a class you write 'class' followed by the name of the\n",
    "# class and finished with a colon\n",
    "class Empty:\n",
    "    # Normally classes are filled with attributes and methods\n",
    "    # however, this class is empty so we will just write pass\n",
    "    pass"
   ]
  },
  {
   "cell_type": "code",
   "execution_count": 5,
   "metadata": {
    "collapsed": true
   },
   "outputs": [
    {
     "name": "stdout",
     "output_type": "stream",
     "text": [
      "<__main__.Empty instance at 0x000000000F1FFB88>\n"
     ]
    }
   ],
   "source": [
    "# We can now make an Empty object\n",
    "e = Empty()\n",
    "\n",
    "print e"
   ]
  },
  {
   "cell_type": "markdown",
   "metadata": {},
   "source": [
    "In the above code chunk we defined e as an instance of the Empty class, thus e is an Empty object.\n",
    "\n",
    "However, empty objects are a little boring. Let's spice things up a bit.\n",
    "\n",
    "### Methods\n",
    "\n",
    "Let's make a class that can do some things. We'll define a class called `Dog`. This class will be just what it sounds like. All dogs have a name so when we make a Dog object let's make sure that we have to give it a name.\n",
    "\n",
    "#### `__init__`\n",
    "\n",
    "This is where the `__init__` method of a class comes into play. This method tells your computer how we need to initialize an instance of this class."
   ]
  },
  {
   "cell_type": "code",
   "execution_count": 6,
   "metadata": {
    "collapsed": true
   },
   "outputs": [],
   "source": [
    "# We're starting to make a Dog class\n",
    "class Dog:\n",
    "    \n",
    "    # We can define an __init__ method that will run anytime we define a new \n",
    "    # instance of this class. Note that self has to be included in any object \n",
    "    # method\n",
    "    def __init__(self,name):\n",
    "        # Here we are saying that when we create the Dog object, it will have\n",
    "        # a name attribute given by the input name\n",
    "        self.name = name\n",
    "    \n",
    "    # Let's also define a method named woof. See that we still must put in self\n",
    "    def woof(self):\n",
    "        print(\"Woof.\")"
   ]
  },
  {
   "cell_type": "code",
   "execution_count": 7,
   "metadata": {
    "collapsed": true
   },
   "outputs": [
    {
     "name": "stdout",
     "output_type": "stream",
     "text": [
      "Woof.\n",
      "\n",
      "\n",
      "Good boy Fido\n"
     ]
    }
   ],
   "source": [
    "# Let's make a Dog object!\n",
    "Fido = Dog('Fido')\n",
    "\n",
    "# What does Fido sound like?\n",
    "Fido.woof()\n",
    "\n",
    "print \"\\n\"\n",
    "\n",
    "print \"Good boy \" + Fido.name"
   ]
  },
  {
   "cell_type": "markdown",
   "metadata": {},
   "source": [
    "### Exercise\n",
    "\n",
    "#### 1. Make a Cat class. Remeber that cats have names and go meow."
   ]
  },
  {
   "cell_type": "code",
   "execution_count": 8,
   "metadata": {},
   "outputs": [],
   "source": [
    "# Make Your Cat Class here\n",
    "\n",
    "\n"
   ]
  },
  {
   "cell_type": "markdown",
   "metadata": {},
   "source": [
    "#### 2. You just got a pet cat! What's its name? Does he meow?"
   ]
  },
  {
   "cell_type": "code",
   "execution_count": 9,
   "metadata": {},
   "outputs": [],
   "source": [
    "# Answer 2. here.\n",
    "\n",
    "\n",
    "\n"
   ]
  },
  {
   "cell_type": "markdown",
   "metadata": {},
   "source": [
    "### Class Variables vs. Object Variables\n",
    "\n",
    "Above we saw that every `Dog` and `Cat` has a `name` variable. `name` is a variable that belongs to an instance of the `Dog` class. Anytime you make a `Dog` object it will have a `name` variable.\n",
    "\n",
    "`name` is an example of what is called an object variable. These variables are owned by each instance of the class.\n",
    "\n",
    "When we define a class we can also create what are known as class variables. These variables belong to the class itself. This may be confusing so let's return to our `Dog` class to see an example.\n",
    "\n",
    "Note that when we run the code below we will be overwriting the previous Dog class from above. So we will have to redefine Fido."
   ]
  },
  {
   "cell_type": "code",
   "execution_count": 10,
   "metadata": {},
   "outputs": [],
   "source": [
    "# Redifining our Dog class to include a class variable\n",
    "class Dog:\n",
    "    # Here we initialize a class variable, NumDogs\n",
    "    NumDogs = 0\n",
    "    \n",
    "    # We'll ammend our __init__ method to add 1 to NumDogs anytime we make a \n",
    "    # new Dog object\n",
    "    def __init__(self,name):\n",
    "        # Here we are saying that when we create the Dog object, it will have\n",
    "        # a name attribute given by the input name\n",
    "        self.name = name\n",
    "        \n",
    "        # When we make a new Dog we'll increase NumDogs by 1\n",
    "        Dog.NumDogs = Dog.NumDogs + 1\n",
    "    \n",
    "    # A method named woof. See that we put in self\n",
    "    def woof(self):\n",
    "        print(\"Woof.\")"
   ]
  },
  {
   "cell_type": "code",
   "execution_count": 11,
   "metadata": {
    "collapsed": true
   },
   "outputs": [
    {
     "name": "stdout",
     "output_type": "stream",
     "text": [
      "There are 0 dogs.\n",
      "Now there is 1 dog.\n"
     ]
    }
   ],
   "source": [
    "# Let's Check to make sure it worked\n",
    "print \"There are \" + str(Dog.NumDogs) + \" dogs.\"\n",
    "\n",
    "Fido = Dog('Fido')\n",
    "print \"Now there is \" + str(Dog.NumDogs) + \" dog.\""
   ]
  },
  {
   "cell_type": "markdown",
   "metadata": {},
   "source": [
    "### Exercise\n",
    "\n",
    "#### 1.  Rewrite you Cat class to include a class variable tracking the number of meows by all the cats."
   ]
  },
  {
   "cell_type": "code",
   "execution_count": 12,
   "metadata": {},
   "outputs": [],
   "source": [
    "# Answer 1. here.\n",
    "\n",
    "\n",
    "\n",
    "\n"
   ]
  },
  {
   "cell_type": "markdown",
   "metadata": {},
   "source": [
    "#### 2. Make two cats. Have the first one meow twice, how many total meows are there? Now have the second one meow three times, how many total meows are there?"
   ]
  },
  {
   "cell_type": "code",
   "execution_count": 13,
   "metadata": {},
   "outputs": [],
   "source": [
    "# Answer 2. here.\n",
    "\n",
    "\n",
    "\n",
    "\n"
   ]
  },
  {
   "cell_type": "markdown",
   "metadata": {},
   "source": [
    "### Class Methods vs. Object Methods\n",
    "\n",
    "In a similar vein there are object methods and class methods. `Fido.woof()` and the `meow()` method are two examples of object methods. These are methods that belong to each instance of a class, like `Fido`.\n",
    "\n",
    "On the flip side we have methods that belong to the class itself. We don't currently have an example of a class method so let's write one for the `Dog` class."
   ]
  },
  {
   "cell_type": "code",
   "execution_count": 21,
   "metadata": {},
   "outputs": [],
   "source": [
    "# Redifining our Dog class to include a class method\n",
    "class Dog:\n",
    "    # Here we initialize class variables\n",
    "    NumDogs = 0\n",
    "    # We added a new class variable NumWoofs\n",
    "    NumWoofs = 0\n",
    "    \n",
    "    # We'll ammend our __init__ method to add 1 to NumDogs anytime we make a \n",
    "    # new Dog object\n",
    "    def __init__(self,name):\n",
    "        # Here we are saying that when we create the Dog object, it will have\n",
    "        # a name attribute given by the input name\n",
    "        self.name = name\n",
    "        \n",
    "        # When we make a new Dog we'll increase NumDogs by 1\n",
    "        Dog.NumDogs = Dog.NumDogs + 1\n",
    "    \n",
    "    # woof is an object method, we can tell because the argument is self\n",
    "    def woof(self):\n",
    "        # Each time a dog woofs we'll count it\n",
    "        Dog.NumWoofs = Dog.NumWoofs + 1\n",
    "        print(\"Woof.\")\n",
    "        \n",
    "    # The following methods are class methods, class methods require @classmethod\n",
    "    # above them and cls as an arguement. Note that @classmethod is called a decorator\n",
    "    @classmethod\n",
    "    def HowMany(cls):\n",
    "        return Dog.NumDogs\n",
    "    \n",
    "    @classmethod\n",
    "    def HowManyWoofs(cls):\n",
    "        return Dog.NumWoofs"
   ]
  },
  {
   "cell_type": "code",
   "execution_count": 22,
   "metadata": {
    "collapsed": true
   },
   "outputs": [
    {
     "name": "stdout",
     "output_type": "stream",
     "text": [
      "Woof.\n",
      "Woof.\n",
      "Woof.\n",
      "Woof.\n",
      "Woof.\n",
      "There are 3 dogs.\n",
      "These dogs have woofed 5 times.\n",
      "Settle down a little bit dogs.\n"
     ]
    }
   ],
   "source": [
    "# We can check that this worked\n",
    "Fido = Dog('Fido')\n",
    "Spot = Dog('Spot')\n",
    "Millie = Dog('Millie')\n",
    "\n",
    "Fido.woof()\n",
    "Spot.woof()\n",
    "Millie.woof()\n",
    "Fido.woof()\n",
    "Fido.woof()\n",
    "\n",
    "print \"There are \" + str(Dog.HowMany()) + \" dogs.\"\n",
    "print \"These dogs have woofed \" + str(Dog.HowManyWoofs()) + \" times.\"\n",
    "print \"Settle down a little bit dogs.\""
   ]
  },
  {
   "cell_type": "markdown",
   "metadata": {},
   "source": [
    "### Exercise\n",
    "\n",
    "#### Write a class method for Cat that returns the total number of meows."
   ]
  },
  {
   "cell_type": "code",
   "execution_count": 24,
   "metadata": {},
   "outputs": [],
   "source": [
    "# Work on the exercise here\n",
    "\n",
    "\n",
    "\n",
    "\n",
    "\n"
   ]
  },
  {
   "cell_type": "markdown",
   "metadata": {},
   "source": [
    "### Inheritance\n",
    "\n",
    "The last thing we'll mention in this notebook is the notion of inheritance. We've made a `Dog` class and a `Cat` class, however in the real world we know both of these animals are specific examples of pets.\n",
    "\n",
    "We can think of both of these classes as a subclass of a larger class, known as a base class or superclass, called `Pet`.\n",
    "\n",
    "We'll make this below."
   ]
  },
  {
   "cell_type": "code",
   "execution_count": 50,
   "metadata": {},
   "outputs": [],
   "source": [
    "# Defining our base class Pet\n",
    "class Pet:\n",
    "    # define class variables\n",
    "    NumberOf = 0\n",
    "    \n",
    "    # define how we intialize a Pet object\n",
    "    def __init__(self,name,sex,age):\n",
    "        self.name = name\n",
    "        self.sex = sex\n",
    "        self.age = age\n",
    "        Pet.NumberOf = Pet.NumberOf + 1\n",
    "        print \"Just made pet, \" + self.name\n",
    "    \n",
    "    # This object method will print the name and age of the pet\n",
    "    def NameAndAge(self):\n",
    "        print \"This pet's name is \" + self.name + \".\"\n",
    "        if self.sex == 'M':\n",
    "            print \"He is \" + str(self.age) + \" years old.\"\n",
    "        else:\n",
    "            print \"She is \" + str(self.age) + \" years old.\"\n",
    "    \n",
    "\n",
    "# Now we'll make a subclass Dog\n",
    "class Dog(Pet):\n",
    "    # Define some class variables\n",
    "    NumberOf = 0\n",
    "    NumberOfBorks = 0\n",
    "    \n",
    "    # Define __init__ for the Dog Class\n",
    "    def __init__(self,name,sex,age,breed):\n",
    "        Pet.__init__(self,name,sex,age)\n",
    "        Dog.NumberOf = Dog.NumberOf + 1\n",
    "        self.breed = breed\n",
    "        print self.name + \" is a dog.\" \n",
    "        \n",
    "    # Define a bork method\n",
    "    def bork(self):\n",
    "        print \"bork\"\n",
    "        Dog.NumberOfBorks = Dog.NumberOfBorks + 1\n",
    "        \n",
    "# Now we'll make a subclass Cat\n",
    "class Cat(Pet):\n",
    "    # Define some class variables\n",
    "    NumberOf = 0\n",
    "    NumberOfMews = 0\n",
    "    \n",
    "    # Define __init__ for the Cat Class\n",
    "    def __init__(self,name,sex,age,breed):\n",
    "        Pet.__init__(self,name,sex,age)\n",
    "        Cat.NumberOf = Cat.NumberOf + 1\n",
    "        self.breed = breed\n",
    "        print self.name + \" is a cat.\"\n",
    "        \n",
    "    def mew(self):\n",
    "        print \"mew\"\n",
    "        Cat.NumberOfMews = Cat.NumberOfMews + 1"
   ]
  },
  {
   "cell_type": "code",
   "execution_count": 51,
   "metadata": {
    "collapsed": true
   },
   "outputs": [
    {
     "name": "stdout",
     "output_type": "stream",
     "text": [
      "Just made pet, Fido\n",
      "Fido is a dog.\n",
      "Just made pet, Frances\n",
      "Frances is a dog.\n",
      "Just made pet, Mr. Mittens\n",
      "Mr. Mittens is a cat.\n",
      "Just made pet, Miss Buttons\n",
      "Miss Buttons is a cat.\n"
     ]
    }
   ],
   "source": [
    "Fido = Dog(\"Fido\",\"M\",4,\"Yorkshire Terrier\")\n",
    "Frances = Dog(\"Frances\",\"F\",6,\"Golden Retriever\")\n",
    "MrMittens = Cat(\"Mr. Mittens\",\"M\",4,\"Tabby Cat\")\n",
    "MissButtons = Cat(\"Miss Buttons\",\"F\",7,\"Siamese\")"
   ]
  },
  {
   "cell_type": "code",
   "execution_count": 52,
   "metadata": {
    "collapsed": true
   },
   "outputs": [
    {
     "name": "stdout",
     "output_type": "stream",
     "text": [
      "There are 4 pets.\n",
      "2 are dogs.\n",
      "2 ar cats.\n"
     ]
    }
   ],
   "source": [
    "print \"There are \" + str(Pet.NumberOf) + \" pets.\"\n",
    "print str(Dog.NumberOf) + \" are dogs.\"\n",
    "print str(Cat.NumberOf) + \" ar cats.\""
   ]
  },
  {
   "cell_type": "markdown",
   "metadata": {},
   "source": [
    "Because `Cat` and `Dog` are subclasses of `Pet` every instance of `Cat` or `Dog` inherits the object variables and object methods of `Pet`. This is why the `__init__` methods of `Cat` and `Dog` include `Pet.__init__(self,name,sex,age)`. So we can access `name`, `sex`, and `age` variables even though they weren't explicitly assigned in the `Dog` and `Cat` classes. Think of it as `Cat` and `Dog` inheriting traits from their 'Parent' class `Pet`."
   ]
  },
  {
   "cell_type": "code",
   "execution_count": 53,
   "metadata": {
    "collapsed": true
   },
   "outputs": [
    {
     "name": "stdout",
     "output_type": "stream",
     "text": [
      "Fido is a Yorkshire Terrier.\n",
      "\n",
      "\n",
      "This pet's name is Mr. Mittens.\n",
      "He is 4 years old.\n"
     ]
    }
   ],
   "source": [
    "print Fido.name + \" is a \" + Fido.breed + \".\\n\\n\"\n",
    "\n",
    "# We can also use a Pet object method\n",
    "MrMittens.NameAndAge()"
   ]
  },
  {
   "cell_type": "code",
   "execution_count": 54,
   "metadata": {
    "collapsed": true
   },
   "outputs": [
    {
     "name": "stdout",
     "output_type": "stream",
     "text": [
      "bork\n",
      "bork\n",
      "mew\n",
      "mew\n",
      "mew\n",
      "\n",
      "\n",
      "\n",
      "\n",
      "\n",
      "bork\n",
      "\n",
      "\n",
      "There have been 3 borks and 3 mews.\n",
      "You guys sure are chatty today!\n"
     ]
    }
   ],
   "source": [
    "Frances.bork()\n",
    "Frances.bork()\n",
    "MrMittens.mew()\n",
    "MissButtons.mew()\n",
    "MissButtons.mew()\n",
    "print \"\\n\\n\\n\\n\"\n",
    "Fido.bork()\n",
    "print \"\\n\"\n",
    "print \"There have been \" + str(Dog.NumberOfBorks) + \" borks and \" + str(Cat.NumberOfMews) + \" mews.\"\n",
    "if (Dog.NumberOfBorks + Cat.NumberOfMews) > 5:\n",
    "    print \"You guys sure are chatty today!\"\n",
    "else:\n",
    "    print \"A normal ammount of borks and mews.\""
   ]
  },
  {
   "cell_type": "markdown",
   "metadata": {},
   "source": [
    "### Exercise\n",
    "\n",
    "#### 1. Make a Fish subclass of Pet. Make sure that you give the Fish a noise!"
   ]
  },
  {
   "cell_type": "code",
   "execution_count": 55,
   "metadata": {},
   "outputs": [],
   "source": [
    "# Answer 1. here\n",
    "\n",
    "\n",
    "\n"
   ]
  },
  {
   "cell_type": "markdown",
   "metadata": {},
   "source": [
    "#### 2. Create two Fish objects. One of them seems a bit noisy..."
   ]
  },
  {
   "cell_type": "code",
   "execution_count": 56,
   "metadata": {},
   "outputs": [],
   "source": [
    "# Answer 2. here\n",
    "\n",
    "\n",
    "\n"
   ]
  },
  {
   "cell_type": "markdown",
   "metadata": {},
   "source": [
    "#### 3. You own a consultant business and you'd like to keep track of all your employees. \n",
    "\n",
    "#### Every employee has a salary, name, and years worked at the company. \n",
    "\n",
    "#### - There are accountants that can be certified or not. \n",
    "\n",
    "#### - There are consultants with varying degree levels: bachelor's, master's, or PhD. Consultants also have different specialties. \n",
    "\n",
    "#### - Finally there are members of the web team. People on the web team work on social media, the company website, or the company blogs. Web team members also have different language specialties: python, java, javascript, or C.\n",
    "\n",
    "#### Use python's classes and objects to provide a way to help you keep track of all of your employees."
   ]
  },
  {
   "cell_type": "code",
   "execution_count": 57,
   "metadata": {},
   "outputs": [],
   "source": [
    "# Answer 3. here\n",
    "\n",
    "\n",
    "\n"
   ]
  },
  {
   "cell_type": "code",
   "execution_count": null,
   "metadata": {},
   "outputs": [],
   "source": []
  }
 ],
 "metadata": {
  "kernelspec": {
   "display_name": "Python 2",
   "language": "python",
   "name": "python2"
  },
  "language_info": {
   "codemirror_mode": {
    "name": "ipython",
    "version": 2
   },
   "file_extension": ".py",
   "mimetype": "text/x-python",
   "name": "python",
   "nbconvert_exporter": "python",
   "pygments_lexer": "ipython2",
   "version": "2.7.14"
  }
 },
 "nbformat": 4,
 "nbformat_minor": 2
}
