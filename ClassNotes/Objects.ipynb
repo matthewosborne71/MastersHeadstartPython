{
 "cells": [
  {
   "cell_type": "markdown",
   "metadata": {},
   "source": [
    "# Objects\n",
    "\n",
    "In this notebook we'll learn about how object-oriented programming works in python. \n",
    "\n",
    "## What are Objects and Classes?\n",
    "\n",
    "Before we get into the nitty gritty of object-oriented programming we should understand what that even means.\n",
    "\n",
    "So far our code has been built around functions and procedures (this is called procedure-oriented programming). In object-oriented programming you organize your code around classes and objects.\n",
    "\n",
    "Objects are data types that can contain both data (called attributes) and functions. We've already seen a couple types of objects. For example, a Graph object from `networkx`."
   ]
  },
  {
   "cell_type": "code",
   "execution_count": 4,
   "metadata": {},
   "outputs": [],
   "source": [
    "import networkx as nx\n",
    "import matplotlib.pyplot as plt"
   ]
  },
  {
   "cell_type": "code",
   "execution_count": 5,
   "metadata": {
    "collapsed": true
   },
   "outputs": [
    {
     "data": {
      "image/png": "[encoded data removed]",
      "text/plain": [
       "<Figure size 432x288 with 1 Axes>"
      ]
     },
     "metadata": {},
     "output_type": "display_data"
    },
    {
     "name": "stdout",
     "output_type": "stream",
     "text": [
      "[0, 1, 2, 3, 4, 5, 6, 7, 8, 9, 10, 11, 12, 13, 14, 15, 16, 17, 18, 19]\n",
      "\n",
      "\n",
      "[(0, 4), (1, 3), (2, 13), (3, 18), (3, 11), (4, 5), (4, 14), (5, 13), (6, 8), (6, 10), (6, 11), (6, 12), (8, 12), (8, 13), (9, 13), (9, 15), (10, 11), (10, 15), (11, 16), (11, 19), (12, 18), (13, 16), (13, 18), (15, 19)]\n",
      "\n",
      "\n",
      "G has 20 nodes. \n",
      "\n",
      "G has 24 edges.\n"
     ]
    }
   ],
   "source": [
    "# G is a networkx Graph object\n",
    "G = nx.erdos_renyi_graph(20,.15)\n",
    "nx.draw(G)\n",
    "plt.show()\n",
    "\n",
    "# Two examples of G's attributes are the nodes and edges\n",
    "print G.nodes\n",
    "print \"\\n\"\n",
    "print G.edges\n",
    "print \"\\n\"\n",
    "\n",
    "# Some examples of G's functions are number_of_nodes and number_of_edges\n",
    "print \"G has \" + str(G.number_of_nodes()) + \" nodes. \\n\"\n",
    "print \"G has \" + str(G.number_of_edges()) + \" edges.\""
   ]
  },
  {
   "cell_type": "markdown",
   "metadata": {},
   "source": [
    "When we say G is a Graph object. This is because G is an instance of `networkx`'s Graph class. A class is essentially an object recipe. In writing up a class we provide the computer a set of instructions as to what the object should be, should have, should be able to do, and how to create one.\n",
    "\n",
    "If this is confusing don't worry, right now we are dealing with somewhat abstract concepts. Everything should become more clear once we work through some examples."
   ]
  },
  {
   "cell_type": "code",
   "execution_count": 6,
   "metadata": {},
   "outputs": [],
   "source": [
    "# We'll start by making an empty class\n",
    "# to define a class you write 'class' followed by the name of the\n",
    "# class and finished with a colon\n",
    "class Empty:\n",
    "    # Normally classes are filled with attributes and methods\n",
    "    # however, this class is empty so we will just write pass\n",
    "    pass"
   ]
  },
  {
   "cell_type": "code",
   "execution_count": 7,
   "metadata": {
    "collapsed": true
   },
   "outputs": [
    {
     "name": "stdout",
     "output_type": "stream",
     "text": [
      "<__main__.Empty instance at 0x000000000F25F9C8>\n"
     ]
    }
   ],
   "source": [
    "# We can now make an Empty object\n",
    "e = Empty()\n",
    "\n",
    "print e"
   ]
  },
  {
   "cell_type": "markdown",
   "metadata": {},
   "source": [
    "In the above code chunk we defined e as an instance of the Empty class, thus e is an Empty object.\n",
    "\n",
    "However, empty objects are a little boring. Let's spice things up a bit.\n",
    "\n",
    "### Methods\n",
    "\n",
    "Let's make a class that can do some things. We'll define a class called `Dog`. This class will be just what it sounds like. All dogs have a name so when we make a Dog object let's make sure that we have to give it a name.\n",
    "\n",
    "#### `__init__`\n",
    "\n",
    "This is where the `__init__` method of a class comes into play. This method tells your computer how we need to initialize an instance of this class."
   ]
  },
  {
   "cell_type": "code",
   "execution_count": 8,
   "metadata": {},
   "outputs": [],
   "source": [
    "# We're starting to make a Dog class\n",
    "class Dog:\n",
    "    \n",
    "    # We can define an __init__ method that will run anytime we define a new \n",
    "    # instance of this class. Note that self has to be included in any object \n",
    "    # method\n",
    "    def __init__(self,name):\n",
    "        # Here we are saying that when we create the Dog object, it will have\n",
    "        # a name attribute given by the input name\n",
    "        self.name = name\n",
    "    \n",
    "    # Let's also define a method named woof. See that we still must put in self\n",
    "    def woof(self):\n",
    "        print(\"Woof.\")"
   ]
  },
  {
   "cell_type": "code",
   "execution_count": 12,
   "metadata": {
    "collapsed": true
   },
   "outputs": [
    {
     "name": "stdout",
     "output_type": "stream",
     "text": [
      "Woof.\n",
      "\n",
      "\n",
      "Good boy Fido\n"
     ]
    }
   ],
   "source": [
    "# Let's make a Dog object!\n",
    "Fido = Dog('Fido')\n",
    "\n",
    "# What does Fido sound like?\n",
    "Fido.woof()\n",
    "\n",
    "print \"\\n\"\n",
    "\n",
    "print \"Good boy \" + Fido.name"
   ]
  },
  {
   "cell_type": "markdown",
   "metadata": {},
   "source": [
    "Name is a variable that belongs to an instance of the `Dog` class. Anytime you make a `Dog` object it will have a name variable."
   ]
  },
  {
   "cell_type": "code",
   "execution_count": null,
   "metadata": {},
   "outputs": [],
   "source": []
  },
  {
   "cell_type": "code",
   "execution_count": null,
   "metadata": {},
   "outputs": [],
   "source": []
  },
  {
   "cell_type": "code",
   "execution_count": null,
   "metadata": {},
   "outputs": [],
   "source": []
  }
 ],
 "metadata": {
  "kernelspec": {
   "display_name": "Python 2",
   "language": "python",
   "name": "python2"
  },
  "language_info": {
   "codemirror_mode": {
    "name": "ipython",
    "version": 2
   },
   "file_extension": ".py",
   "mimetype": "text/x-python",
   "name": "python",
   "nbconvert_exporter": "python",
   "pygments_lexer": "ipython2",
   "version": "2.7.14"
  }
 },
 "nbformat": 4,
 "nbformat_minor": 2
}
