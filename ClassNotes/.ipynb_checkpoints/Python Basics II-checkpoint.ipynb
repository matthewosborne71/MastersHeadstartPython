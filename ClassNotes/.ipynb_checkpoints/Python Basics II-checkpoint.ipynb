{
 "cells": [
  {
   "cell_type": "markdown",
   "metadata": {},
   "source": [
    "# Python Basics II\n",
    "\n",
    "We'll continue with python basics today. This may or may not be the last day we work on the basics it just depends on our pace today.\n",
    "\n",
    "Last time we covered printing, basic data types, and introduced lists.\n",
    "\n",
    "## More Data Structures\n",
    "\n",
    "### Tuples\n",
    "\n",
    "Tuples are similar to lists but have a couple differences that we'll see below"
   ]
  },
  {
   "cell_type": "code",
   "execution_count": 12,
   "metadata": {
    "collapsed": true
   },
   "outputs": [
    {
     "name": "stdout",
     "output_type": "stream",
     "text": [
      "('apple', 1, True, 4.3, [1, 2, 3])\n",
      "Tuple1 is a <type 'tuple'>\n",
      "\n",
      "(2, 4.53, 'Go Buckeyes!', ('Now there are two of them', 2, 4.5, False))\n",
      "Tuple2 is a <type 'tuple'>\n"
     ]
    }
   ],
   "source": [
    "# Declare a tuple in any of the following ways\n",
    "Tuple1 = \"apple\",1,True,4.30,[1,2,3]\n",
    "print Tuple1\n",
    "print \"Tuple1 is a \" + str(type(Tuple1)) + \"\\n\"\n",
    "\n",
    "Tuple2 = (2,4.53,\"Go Buckeyes!\",(\"Now there are two of them\",2,4.5,False))\n",
    "print Tuple2\n",
    "print \"Tuple2 is a \" + str(type(Tuple2))"
   ]
  },
  {
   "cell_type": "markdown",
   "metadata": {},
   "source": [
    "### Exercises\n",
    "\n",
    "#### 1. Write up a tuple that has 6 items in it, and name it Arthur.\n",
    "\n",
    "#### 2. Print the 4th item in your tuple.\n",
    "\n",
    "#### 3. Run the following code: Arthur[4] = 12\n",
    "\n",
    "#### 4. What happened in number 3?"
   ]
  },
  {
   "cell_type": "code",
   "execution_count": 6,
   "metadata": {},
   "outputs": [],
   "source": [
    "# You can work on the exercises here\n",
    "\n",
    "\n",
    "\n"
   ]
  },
  {
   "cell_type": "markdown",
   "metadata": {},
   "source": [
    "### Dictionaries\n",
    "\n",
    "Dictionaries are similar to lists or tuples, however here the values are indexed by special \"keys\". Let's see an example of what this means."
   ]
  },
  {
   "cell_type": "code",
   "execution_count": 8,
   "metadata": {
    "collapsed": true
   },
   "outputs": [
    {
     "name": "stdout",
     "output_type": "stream",
     "text": [
      "I went to Toledo, we were the Rockets.\n",
      "Go Rockets!!!!\n"
     ]
    }
   ],
   "source": [
    "# Dictionaries are surrounded by brackets, here the keys are surrounded by ''\n",
    "Mascots = {'Ohio State': \"Buckeyes\", 'Toledo': \"Rockets\", 'Michigan': \"Wolverines\", 'UCLA': \"Bruins\", 'Oregon': \"Ducks\"}\n",
    "\n",
    "# We can now index by the keys\n",
    "print \"I went to Toledo, we were the \" + Mascots['Toledo'] +\".\"\n",
    "print \"Go \" + Mascots['Toledo'] + \"!!!!\""
   ]
  },
  {
   "cell_type": "markdown",
   "metadata": {},
   "source": [
    "### Exercises\n",
    "\n",
    "#### 1. Use a dictionary to write a menu of 5 food items and their prices. What should the keys be?\n",
    "\n",
    "#### 2. So many people want fish sticks that you decide to add them to your menu. Change your dictionary to reflect that.\n",
    "\n",
    "#### 3. I'm a hungry customer and I want some fish sticks. How much do they cost?"
   ]
  },
  {
   "cell_type": "markdown",
   "metadata": {},
   "source": [
    "### Sets\n",
    "\n",
    "Python sets are just like mathematical sets. Python even has a number of built in set functions that cover any set operation that you could want to perform. These come in handy in a number of situations, so we'll introduce how to make them. You can look up all of the operations here: https://docs.python.org/2.7/library/sets.html?highlight=sets#module-sets"
   ]
  },
  {
   "cell_type": "code",
   "execution_count": 11,
   "metadata": {
    "collapsed": true
   },
   "outputs": [
    {
     "name": "stdout",
     "output_type": "stream",
     "text": [
      "Here's the intersection of SomeIntegers and SomeEvens:\n",
      "set([2, 2222])\n"
     ]
    }
   ],
   "source": [
    "SomeIntegers = set([1,2,3,-1,71,-12098,2222])\n",
    "\n",
    "SomeEvens = set([2,4,6,8,20,40,46,2222])\n",
    "\n",
    "print \"Here's the intersection of SomeIntegers and SomeEvens:\" \n",
    "print str(SomeIntegers.intersection(SomeEvens))"
   ]
  },
  {
   "cell_type": "markdown",
   "metadata": {},
   "source": [
    "## If, Else, and Loops\n",
    "\n",
    "### If And Else Statements\n",
    "\n",
    "A common feature in python code (and any code for that matter) are if else statements. These are written so that code is executed only IF a certain condition is met. Let's look at a couple of examples to get the syntax down."
   ]
  },
  {
   "cell_type": "code",
   "execution_count": 2,
   "metadata": {
    "collapsed": true
   },
   "outputs": [
    {
     "name": "stdout",
     "output_type": "stream",
     "text": [
      "I have too many students! I hate grading\n"
     ]
    }
   ],
   "source": [
    "# IF, ELSE\n",
    "# Note an if statement does not have to be followed by an else statement\n",
    "\n",
    "NumStudents =40\n",
    "\n",
    "# if statements must be ended with a colon\n",
    "# The code you want executed must be indented\n",
    "if NumStudents > 20:\n",
    "    print \"I have too many students! I hate grading\"\n",
    "    \n",
    "# The if statement is exited once the indent goes away\n",
    "else:\n",
    "    print \"Twenty or fewer students, that's not so bad.\""
   ]
  },
  {
   "cell_type": "code",
   "execution_count": 3,
   "metadata": {
    "collapsed": true
   },
   "outputs": [
    {
     "name": "stdout",
     "output_type": "stream",
     "text": [
      "I have more friends than apples!\n",
      "Everyone will get less than one apple :-(\n"
     ]
    }
   ],
   "source": [
    "# IF, IF ElSE, ELSE\n",
    "NumApples = 5\n",
    "NumFriends = 7\n",
    "\n",
    "if NumApples == NumFriends:\n",
    "    print \"I have just as many apples as I do friends!\"\n",
    "    \n",
    "# else if is written elif in python\n",
    "elif NumApples > NumFriends:\n",
    "    print \"I have more apples than Friends!\"\n",
    "    \n",
    "else:\n",
    "    print \"I have more friends than apples!\"\n",
    "    print \"Everyone will get less than one apple :-(\""
   ]
  },
  {
   "cell_type": "markdown",
   "metadata": {},
   "source": [
    "### Loop There it is!\n",
    "\n",
    "While if else expands our tool belt, we still don't have enough to write meaningful code (we're pretty close though!). Next up is learning the useful 'flow control' tool, loops. There are to different flavors: 'for' and 'while'.\n",
    "\n",
    "#### For the Love of Code\n",
    "\n",
    "For loops allow you to execute a chunk of code a prescribed number of times, or for a set number of items. While this concept is present in every coding language, each one has its own syntax. Lets see how to write it up in python."
   ]
  },
  {
   "cell_type": "code",
   "execution_count": 6,
   "metadata": {
    "collapsed": true
   },
   "outputs": [
    {
     "name": "stdout",
     "output_type": "stream",
     "text": [
      "0 time(s) around the loop\n",
      "1 time(s) around the loop\n",
      "2 time(s) around the loop\n",
      "3 time(s) around the loop\n",
      "4 time(s) around the loop\n",
      "\n",
      "\n",
      "One\n",
      "Two\n",
      "Three\n",
      "Four\n",
      "Tell me that you love me more\n",
      "Feist- 1,2,3,4\n"
     ]
    }
   ],
   "source": [
    "# for loops are also ended by :\n",
    "# the code executed in the loop is indented\n",
    "# Note range(n) creates a list contains an incremental list of integers, \n",
    "# see https://docs.python.org/2/library/functions.html#range for more info on range\n",
    "for i in range(5):\n",
    "    print str(i) + \" time(s) around the loop\" \n",
    "    \n",
    "print \"\\n\"\n",
    "# For loops also work with non-numerical structures and tuples\n",
    "SongLyrics = \"One\",\"Two\",\"Three\",\"Four\",\"Tell me that you love me more\",\"Feist- 1,2,3,4\"\n",
    "\n",
    "for line in SongLyrics:\n",
    "    print line"
   ]
  },
  {
   "cell_type": "markdown",
   "metadata": {},
   "source": [
    "#### It's Been a While...\n",
    "\n",
    "While loops execute the code chunk as long as the loop condition is true. Be careful with these lest you end up in an infinite loop!"
   ]
  },
  {
   "cell_type": "code",
   "execution_count": 8,
   "metadata": {
    "collapsed": true
   },
   "outputs": [
    {
     "name": "stdout",
     "output_type": "stream",
     "text": [
      "I can count to 10!\n",
      "1\n",
      "2\n",
      "3\n",
      "4\n",
      "5\n",
      "6\n",
      "7\n",
      "8\n",
      "9\n",
      "10\n",
      "I don't know what comes after 10 :-/\n"
     ]
    }
   ],
   "source": [
    "# While loops are also ended by:\n",
    "# Loop code is indented\n",
    "\n",
    "i = 1\n",
    "stop = 11\n",
    "\n",
    "print \"I can count to 10!\"\n",
    "while i < stop:\n",
    "    print str(i)\n",
    "    i = i+1\n",
    "    \n",
    "    \n",
    "print \"I don't know what comes after 10 :-/\""
   ]
  },
  {
   "cell_type": "markdown",
   "metadata": {},
   "source": [
    "### Exercises\n",
    "\n",
    "#### 1. Run the following line of code."
   ]
  },
  {
   "cell_type": "code",
   "execution_count": null,
   "metadata": {},
   "outputs": [],
   "source": [
    "SomeNumbers = [2,5,20,55,235,753,4324,786,90,33,1,71,17,49]"
   ]
  },
  {
   "cell_type": "markdown",
   "metadata": {},
   "source": [
    "#### 2. Write code that prints \"Even Numbah!\" for each even number in SomeNumbers"
   ]
  },
  {
   "cell_type": "code",
   "execution_count": 9,
   "metadata": {},
   "outputs": [],
   "source": [
    "# Use this space to write the answer to 2.\n",
    "\n",
    "\n",
    "\n",
    "\n",
    "\n"
   ]
  },
  {
   "cell_type": "markdown",
   "metadata": {},
   "source": [
    "#### 3. Write code to sequentially print out the first 15 Fibonacci Numbers:\n",
    "Note: Output should look like this\n",
    "\n",
    "0\n",
    "\n",
    "0 1\n",
    "\n",
    "0 1 1\n",
    "\n",
    "0 1 1 2\n",
    "\n",
    "and so on..."
   ]
  },
  {
   "cell_type": "code",
   "execution_count": null,
   "metadata": {},
   "outputs": [],
   "source": [
    "# Write your code here\n",
    "# Potentially helpful note: ending a print statement with a comma will allow you to print on the same line\n",
    "# ending a print statement with + \"\\n\" will make your next print output go to a new line\n",
    "\n",
    "\n",
    "\n",
    "\n",
    "\n",
    "\n",
    "\n",
    "\n"
   ]
  }
 ],
 "metadata": {
  "kernelspec": {
   "display_name": "Python 2",
   "language": "python",
   "name": "python2"
  },
  "language_info": {
   "codemirror_mode": {
    "name": "ipython",
    "version": 2
   },
   "file_extension": ".py",
   "mimetype": "text/x-python",
   "name": "python",
   "nbconvert_exporter": "python",
   "pygments_lexer": "ipython2",
   "version": "2.7.14"
  }
 },
 "nbformat": 4,
 "nbformat_minor": 2
}
