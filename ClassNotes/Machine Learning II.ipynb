{
 "cells": [
  {
   "cell_type": "markdown",
   "metadata": {},
   "source": [
    "# Machine Learning II\n",
    "\n",
    "In this notebook we'll continue to learn how to apply some machine learning techniques in python. In this notebook we'll learn a little bit about another supervised learning problem, classification. \n",
    "\n",
    "Again we will be following material presented in [__Introduction to Machine Learning with Python__ ](https://www.amazon.com/Introduction-Machine-Learning-Python-Scientists/dp/1449369413/ref=sr_1_3?ie=UTF8&qid=1533953050&sr=8-3&keywords=introduction+to+machine+learning+with+python) and [__Hands-On Machine Learning with Scikit-Learn & TensorFlow__](https://www.amazon.com/Hands-Machine-Learning-Scikit-Learn-TensorFlow/dp/1491962291/ref=sr_1_4?ie=UTF8&qid=1533953050&sr=8-4&keywords=introduction+to+machine+learning+with+python) for these notes.\n",
    "\n",
    "## Supervised Learning Continued\n",
    "\n",
    "### Classification\n",
    "\n",
    "In the previous notebook, __Machine Learning I__ we saw how we could use linear regression to make predictions about continuous variables (loosely speaking, variables that take a numeric value). The goal of classification problems is to make predicitions about the value of categorical variables. For example, perhaps you have a bunch data on a bunch of twitter users and you want to predict which ones are bots and which ones are real users. There are a few different techniques we can use, and this notebook will go over a few of them.\n",
    "\n",
    "#### Predicting Iris Class Using K-Nearest Neighbors\n",
    "\n",
    "The idea behind k-nearest neighbors (KNN) is a simple one. You want to predict the class of a new object. So you take the input data from that object and find the k-closest data points from your training data. Whatever class the majority of these training points are determine how the machine classifies the new object.\n",
    "\n",
    "We'll see this in action below with data from the [UCI Machine Learning Repository],(https://archive.ics.uci.edu/ml/datasets/Iris) on irises. Irises look like the following picture: <img src = \"Data\\iris.jpg\">\n",
    "\n",
    "There are three different types of irises and we can if we measure some features from the sepal and petal we can classify what type of iris a particular iris is.\n",
    "\n",
    "First let's import our data"
   ]
  },
  {
   "cell_type": "code",
   "execution_count": 135,
   "metadata": {},
   "outputs": [],
   "source": [
    "# This code imports all the packages we'll need\n",
    "import pandas as pd\n",
    "import numpy as np\n",
    "import matplotlib\n",
    "import matplotlib.pyplot as plt\n",
    "import seaborn as sns\n",
    "\n",
    "from sklearn.base import BaseEstimator\n",
    "\n",
    "from sklearn.model_selection import train_test_split\n",
    "# KNN\n",
    "from sklearn.neighbors import KNeighborsClassifier\n",
    "# SGD\n",
    "from sklearn.linear_model import SGDClassifier\n",
    "# k-fold cross validation\n",
    "from sklearn.model_selection import cross_val_score\n",
    "# for cross validation predictions\n",
    "from sklearn.model_selection import cross_val_predict\n",
    "# for confusion matrix \n",
    "from sklearn.metrics import confusion_matrix\n",
    "# for precision and recall\n",
    "from sklearn.metrics import precision_score, recall_score\n",
    "# for F1 score\n",
    "from sklearn.metrics import f1_score\n",
    "# For making a precision_recall_curve\n",
    "from sklearn.metrics import precision_recall_curve"
   ]
  },
  {
   "cell_type": "code",
   "execution_count": 19,
   "metadata": {
    "collapsed": true
   },
   "outputs": [
    {
     "data": {
      "text/html": [
       "<div>\n",
       "<style scoped>\n",
       "    .dataframe tbody tr th:only-of-type {\n",
       "        vertical-align: middle;\n",
       "    }\n",
       "\n",
       "    .dataframe tbody tr th {\n",
       "        vertical-align: top;\n",
       "    }\n",
       "\n",
       "    .dataframe thead th {\n",
       "        text-align: right;\n",
       "    }\n",
       "</style>\n",
       "<table border=\"1\" class=\"dataframe\">\n",
       "  <thead>\n",
       "    <tr style=\"text-align: right;\">\n",
       "      <th></th>\n",
       "      <th>sepal_length</th>\n",
       "      <th>sepal_width</th>\n",
       "      <th>petal_length</th>\n",
       "      <th>petal_width</th>\n",
       "      <th>class</th>\n",
       "    </tr>\n",
       "  </thead>\n",
       "  <tbody>\n",
       "    <tr>\n",
       "      <th>9</th>\n",
       "      <td>4.9</td>\n",
       "      <td>3.1</td>\n",
       "      <td>1.5</td>\n",
       "      <td>0.1</td>\n",
       "      <td>Iris-setosa</td>\n",
       "    </tr>\n",
       "    <tr>\n",
       "      <th>41</th>\n",
       "      <td>4.5</td>\n",
       "      <td>2.3</td>\n",
       "      <td>1.3</td>\n",
       "      <td>0.3</td>\n",
       "      <td>Iris-setosa</td>\n",
       "    </tr>\n",
       "    <tr>\n",
       "      <th>133</th>\n",
       "      <td>6.3</td>\n",
       "      <td>2.8</td>\n",
       "      <td>5.1</td>\n",
       "      <td>1.5</td>\n",
       "      <td>Iris-virginica</td>\n",
       "    </tr>\n",
       "    <tr>\n",
       "      <th>73</th>\n",
       "      <td>6.1</td>\n",
       "      <td>2.8</td>\n",
       "      <td>4.7</td>\n",
       "      <td>1.2</td>\n",
       "      <td>Iris-versicolor</td>\n",
       "    </tr>\n",
       "    <tr>\n",
       "      <th>95</th>\n",
       "      <td>5.7</td>\n",
       "      <td>3.0</td>\n",
       "      <td>4.2</td>\n",
       "      <td>1.2</td>\n",
       "      <td>Iris-versicolor</td>\n",
       "    </tr>\n",
       "    <tr>\n",
       "      <th>108</th>\n",
       "      <td>6.7</td>\n",
       "      <td>2.5</td>\n",
       "      <td>5.8</td>\n",
       "      <td>1.8</td>\n",
       "      <td>Iris-virginica</td>\n",
       "    </tr>\n",
       "    <tr>\n",
       "      <th>23</th>\n",
       "      <td>5.1</td>\n",
       "      <td>3.3</td>\n",
       "      <td>1.7</td>\n",
       "      <td>0.5</td>\n",
       "      <td>Iris-setosa</td>\n",
       "    </tr>\n",
       "    <tr>\n",
       "      <th>144</th>\n",
       "      <td>6.7</td>\n",
       "      <td>3.3</td>\n",
       "      <td>5.7</td>\n",
       "      <td>2.5</td>\n",
       "      <td>Iris-virginica</td>\n",
       "    </tr>\n",
       "    <tr>\n",
       "      <th>49</th>\n",
       "      <td>5.0</td>\n",
       "      <td>3.3</td>\n",
       "      <td>1.4</td>\n",
       "      <td>0.2</td>\n",
       "      <td>Iris-setosa</td>\n",
       "    </tr>\n",
       "    <tr>\n",
       "      <th>136</th>\n",
       "      <td>6.3</td>\n",
       "      <td>3.4</td>\n",
       "      <td>5.6</td>\n",
       "      <td>2.4</td>\n",
       "      <td>Iris-virginica</td>\n",
       "    </tr>\n",
       "  </tbody>\n",
       "</table>\n",
       "</div>"
      ],
      "text/plain": [
       "     sepal_length  sepal_width  petal_length  petal_width            class\n",
       "9             4.9          3.1           1.5          0.1      Iris-setosa\n",
       "41            4.5          2.3           1.3          0.3      Iris-setosa\n",
       "133           6.3          2.8           5.1          1.5   Iris-virginica\n",
       "73            6.1          2.8           4.7          1.2  Iris-versicolor\n",
       "95            5.7          3.0           4.2          1.2  Iris-versicolor\n",
       "108           6.7          2.5           5.8          1.8   Iris-virginica\n",
       "23            5.1          3.3           1.7          0.5      Iris-setosa\n",
       "144           6.7          3.3           5.7          2.5   Iris-virginica\n",
       "49            5.0          3.3           1.4          0.2      Iris-setosa\n",
       "136           6.3          3.4           5.6          2.4   Iris-virginica"
      ]
     },
     "execution_count": 19,
     "metadata": {},
     "output_type": "execute_result"
    }
   ],
   "source": [
    "# Read in our data\n",
    "Iris = pd.read_csv(\"Data\\iris.csv\")\n",
    "\n",
    "# Immediately make our test, train split\n",
    "train, test = train_test_split(Iris, test_size = .2, random_state = 440)\n",
    "\n",
    "# look at the dataset\n",
    "train.sample(10)"
   ]
  },
  {
   "cell_type": "code",
   "execution_count": 17,
   "metadata": {
    "collapsed": true
   },
   "outputs": [
    {
     "data": {
      "image/png": "[encoded data removed]",
      "text/plain": [
       "<Figure size 463.5x360 with 1 Axes>"
      ]
     },
     "metadata": {},
     "output_type": "display_data"
    }
   ],
   "source": [
    "# Use a scatterplot to view our data\n",
    "sns.lmplot(x = 'sepal_length', y = 'sepal_width', data = train, hue = 'class', fit_reg=False, markers = ['o','x','^'])\n",
    "plt.show()"
   ]
  },
  {
   "cell_type": "code",
   "execution_count": 18,
   "metadata": {
    "collapsed": true
   },
   "outputs": [
    {
     "data": {
      "image/png": "[encoded data removed]",
      "text/plain": [
       "<Figure size 463.5x360 with 1 Axes>"
      ]
     },
     "metadata": {},
     "output_type": "display_data"
    }
   ],
   "source": [
    "# A different scatter plot\n",
    "sns.lmplot(x = 'petal_length', y = 'petal_width', data = train, hue = 'class', fit_reg=False,markers = ['o','x','^'])\n",
    "plt.show()"
   ]
  },
  {
   "cell_type": "markdown",
   "metadata": {},
   "source": [
    "We can see that perhaps KNN might be an effective technique for this data. Let's go ahead and make our model and then test it."
   ]
  },
  {
   "cell_type": "code",
   "execution_count": 70,
   "metadata": {
    "collapsed": true
   },
   "outputs": [
    {
     "name": "stderr",
     "output_type": "stream",
     "text": [
      "c:\\python27\\lib\\site-packages\\ipykernel_launcher.py:15: SettingWithCopyWarning: \n",
      "A value is trying to be set on a copy of a slice from a DataFrame.\n",
      "Try using .loc[row_indexer,col_indexer] = value instead\n",
      "\n",
      "See the caveats in the documentation: http://pandas.pydata.org/pandas-docs/stable/indexing.html#indexing-view-versus-copy\n",
      "  from ipykernel import kernelapp as app\n"
     ]
    }
   ],
   "source": [
    "# This code makes a KNN model, you can choose the number of neighbore that you want\n",
    "# We'll start with using 5\n",
    "knn = KNeighborsClassifier(n_neighbors = 10)\n",
    "\n",
    "# Split our data into inputs and outputs\n",
    "x_train = np.array(train[['sepal_length','sepal_width','petal_length','petal_width']])\n",
    "y_train = np.array(train['class'])\n",
    "\n",
    "# fit the model to the training data\n",
    "# Input data first, output data second\n",
    "knn.fit(x_train,y_train)\n",
    "\n",
    "x_test = np.array(test[['sepal_length','sepal_width','petal_length','petal_width']])\n",
    "\n",
    "test['predict'] = knn.predict(x_test)"
   ]
  },
  {
   "cell_type": "markdown",
   "metadata": {},
   "source": [
    "Let's look at test and see how we did!"
   ]
  },
  {
   "cell_type": "code",
   "execution_count": 71,
   "metadata": {
    "collapsed": true
   },
   "outputs": [
    {
     "data": {
      "text/html": [
       "<div>\n",
       "<style scoped>\n",
       "    .dataframe tbody tr th:only-of-type {\n",
       "        vertical-align: middle;\n",
       "    }\n",
       "\n",
       "    .dataframe tbody tr th {\n",
       "        vertical-align: top;\n",
       "    }\n",
       "\n",
       "    .dataframe thead th {\n",
       "        text-align: right;\n",
       "    }\n",
       "</style>\n",
       "<table border=\"1\" class=\"dataframe\">\n",
       "  <thead>\n",
       "    <tr style=\"text-align: right;\">\n",
       "      <th></th>\n",
       "      <th>sepal_length</th>\n",
       "      <th>sepal_width</th>\n",
       "      <th>petal_length</th>\n",
       "      <th>petal_width</th>\n",
       "      <th>class</th>\n",
       "      <th>predict</th>\n",
       "    </tr>\n",
       "  </thead>\n",
       "  <tbody>\n",
       "    <tr>\n",
       "      <th>94</th>\n",
       "      <td>5.6</td>\n",
       "      <td>2.7</td>\n",
       "      <td>4.2</td>\n",
       "      <td>1.3</td>\n",
       "      <td>Iris-versicolor</td>\n",
       "      <td>Iris-versicolor</td>\n",
       "    </tr>\n",
       "    <tr>\n",
       "      <th>99</th>\n",
       "      <td>5.7</td>\n",
       "      <td>2.8</td>\n",
       "      <td>4.1</td>\n",
       "      <td>1.3</td>\n",
       "      <td>Iris-versicolor</td>\n",
       "      <td>Iris-versicolor</td>\n",
       "    </tr>\n",
       "    <tr>\n",
       "      <th>132</th>\n",
       "      <td>6.4</td>\n",
       "      <td>2.8</td>\n",
       "      <td>5.6</td>\n",
       "      <td>2.2</td>\n",
       "      <td>Iris-virginica</td>\n",
       "      <td>Iris-virginica</td>\n",
       "    </tr>\n",
       "    <tr>\n",
       "      <th>0</th>\n",
       "      <td>5.1</td>\n",
       "      <td>3.5</td>\n",
       "      <td>1.4</td>\n",
       "      <td>0.2</td>\n",
       "      <td>Iris-setosa</td>\n",
       "      <td>Iris-setosa</td>\n",
       "    </tr>\n",
       "    <tr>\n",
       "      <th>126</th>\n",
       "      <td>6.2</td>\n",
       "      <td>2.8</td>\n",
       "      <td>4.8</td>\n",
       "      <td>1.8</td>\n",
       "      <td>Iris-virginica</td>\n",
       "      <td>Iris-versicolor</td>\n",
       "    </tr>\n",
       "    <tr>\n",
       "      <th>54</th>\n",
       "      <td>6.5</td>\n",
       "      <td>2.8</td>\n",
       "      <td>4.6</td>\n",
       "      <td>1.5</td>\n",
       "      <td>Iris-versicolor</td>\n",
       "      <td>Iris-versicolor</td>\n",
       "    </tr>\n",
       "    <tr>\n",
       "      <th>52</th>\n",
       "      <td>6.9</td>\n",
       "      <td>3.1</td>\n",
       "      <td>4.9</td>\n",
       "      <td>1.5</td>\n",
       "      <td>Iris-versicolor</td>\n",
       "      <td>Iris-versicolor</td>\n",
       "    </tr>\n",
       "    <tr>\n",
       "      <th>58</th>\n",
       "      <td>6.6</td>\n",
       "      <td>2.9</td>\n",
       "      <td>4.6</td>\n",
       "      <td>1.3</td>\n",
       "      <td>Iris-versicolor</td>\n",
       "      <td>Iris-versicolor</td>\n",
       "    </tr>\n",
       "    <tr>\n",
       "      <th>148</th>\n",
       "      <td>6.2</td>\n",
       "      <td>3.4</td>\n",
       "      <td>5.4</td>\n",
       "      <td>2.3</td>\n",
       "      <td>Iris-virginica</td>\n",
       "      <td>Iris-virginica</td>\n",
       "    </tr>\n",
       "    <tr>\n",
       "      <th>127</th>\n",
       "      <td>6.1</td>\n",
       "      <td>3.0</td>\n",
       "      <td>4.9</td>\n",
       "      <td>1.8</td>\n",
       "      <td>Iris-virginica</td>\n",
       "      <td>Iris-virginica</td>\n",
       "    </tr>\n",
       "    <tr>\n",
       "      <th>98</th>\n",
       "      <td>5.1</td>\n",
       "      <td>2.5</td>\n",
       "      <td>3.0</td>\n",
       "      <td>1.1</td>\n",
       "      <td>Iris-versicolor</td>\n",
       "      <td>Iris-versicolor</td>\n",
       "    </tr>\n",
       "    <tr>\n",
       "      <th>66</th>\n",
       "      <td>5.6</td>\n",
       "      <td>3.0</td>\n",
       "      <td>4.5</td>\n",
       "      <td>1.5</td>\n",
       "      <td>Iris-versicolor</td>\n",
       "      <td>Iris-versicolor</td>\n",
       "    </tr>\n",
       "    <tr>\n",
       "      <th>80</th>\n",
       "      <td>5.5</td>\n",
       "      <td>2.4</td>\n",
       "      <td>3.8</td>\n",
       "      <td>1.1</td>\n",
       "      <td>Iris-versicolor</td>\n",
       "      <td>Iris-versicolor</td>\n",
       "    </tr>\n",
       "    <tr>\n",
       "      <th>32</th>\n",
       "      <td>5.2</td>\n",
       "      <td>4.1</td>\n",
       "      <td>1.5</td>\n",
       "      <td>0.1</td>\n",
       "      <td>Iris-setosa</td>\n",
       "      <td>Iris-setosa</td>\n",
       "    </tr>\n",
       "    <tr>\n",
       "      <th>78</th>\n",
       "      <td>6.0</td>\n",
       "      <td>2.9</td>\n",
       "      <td>4.5</td>\n",
       "      <td>1.5</td>\n",
       "      <td>Iris-versicolor</td>\n",
       "      <td>Iris-versicolor</td>\n",
       "    </tr>\n",
       "    <tr>\n",
       "      <th>106</th>\n",
       "      <td>4.9</td>\n",
       "      <td>2.5</td>\n",
       "      <td>4.5</td>\n",
       "      <td>1.7</td>\n",
       "      <td>Iris-virginica</td>\n",
       "      <td>Iris-versicolor</td>\n",
       "    </tr>\n",
       "    <tr>\n",
       "      <th>48</th>\n",
       "      <td>5.3</td>\n",
       "      <td>3.7</td>\n",
       "      <td>1.5</td>\n",
       "      <td>0.2</td>\n",
       "      <td>Iris-setosa</td>\n",
       "      <td>Iris-setosa</td>\n",
       "    </tr>\n",
       "    <tr>\n",
       "      <th>2</th>\n",
       "      <td>4.7</td>\n",
       "      <td>3.2</td>\n",
       "      <td>1.3</td>\n",
       "      <td>0.2</td>\n",
       "      <td>Iris-setosa</td>\n",
       "      <td>Iris-setosa</td>\n",
       "    </tr>\n",
       "    <tr>\n",
       "      <th>76</th>\n",
       "      <td>6.8</td>\n",
       "      <td>2.8</td>\n",
       "      <td>4.8</td>\n",
       "      <td>1.4</td>\n",
       "      <td>Iris-versicolor</td>\n",
       "      <td>Iris-versicolor</td>\n",
       "    </tr>\n",
       "    <tr>\n",
       "      <th>96</th>\n",
       "      <td>5.7</td>\n",
       "      <td>2.9</td>\n",
       "      <td>4.2</td>\n",
       "      <td>1.3</td>\n",
       "      <td>Iris-versicolor</td>\n",
       "      <td>Iris-versicolor</td>\n",
       "    </tr>\n",
       "    <tr>\n",
       "      <th>104</th>\n",
       "      <td>6.5</td>\n",
       "      <td>3.0</td>\n",
       "      <td>5.8</td>\n",
       "      <td>2.2</td>\n",
       "      <td>Iris-virginica</td>\n",
       "      <td>Iris-virginica</td>\n",
       "    </tr>\n",
       "    <tr>\n",
       "      <th>109</th>\n",
       "      <td>7.2</td>\n",
       "      <td>3.6</td>\n",
       "      <td>6.1</td>\n",
       "      <td>2.5</td>\n",
       "      <td>Iris-virginica</td>\n",
       "      <td>Iris-virginica</td>\n",
       "    </tr>\n",
       "    <tr>\n",
       "      <th>103</th>\n",
       "      <td>6.3</td>\n",
       "      <td>2.9</td>\n",
       "      <td>5.6</td>\n",
       "      <td>1.8</td>\n",
       "      <td>Iris-virginica</td>\n",
       "      <td>Iris-virginica</td>\n",
       "    </tr>\n",
       "    <tr>\n",
       "      <th>59</th>\n",
       "      <td>5.2</td>\n",
       "      <td>2.7</td>\n",
       "      <td>3.9</td>\n",
       "      <td>1.4</td>\n",
       "      <td>Iris-versicolor</td>\n",
       "      <td>Iris-versicolor</td>\n",
       "    </tr>\n",
       "    <tr>\n",
       "      <th>1</th>\n",
       "      <td>4.9</td>\n",
       "      <td>3.0</td>\n",
       "      <td>1.4</td>\n",
       "      <td>0.2</td>\n",
       "      <td>Iris-setosa</td>\n",
       "      <td>Iris-setosa</td>\n",
       "    </tr>\n",
       "    <tr>\n",
       "      <th>30</th>\n",
       "      <td>4.8</td>\n",
       "      <td>3.1</td>\n",
       "      <td>1.6</td>\n",
       "      <td>0.2</td>\n",
       "      <td>Iris-setosa</td>\n",
       "      <td>Iris-setosa</td>\n",
       "    </tr>\n",
       "    <tr>\n",
       "      <th>14</th>\n",
       "      <td>5.8</td>\n",
       "      <td>4.0</td>\n",
       "      <td>1.2</td>\n",
       "      <td>0.2</td>\n",
       "      <td>Iris-setosa</td>\n",
       "      <td>Iris-setosa</td>\n",
       "    </tr>\n",
       "    <tr>\n",
       "      <th>139</th>\n",
       "      <td>6.9</td>\n",
       "      <td>3.1</td>\n",
       "      <td>5.4</td>\n",
       "      <td>2.1</td>\n",
       "      <td>Iris-virginica</td>\n",
       "      <td>Iris-virginica</td>\n",
       "    </tr>\n",
       "    <tr>\n",
       "      <th>16</th>\n",
       "      <td>5.4</td>\n",
       "      <td>3.9</td>\n",
       "      <td>1.3</td>\n",
       "      <td>0.4</td>\n",
       "      <td>Iris-setosa</td>\n",
       "      <td>Iris-setosa</td>\n",
       "    </tr>\n",
       "    <tr>\n",
       "      <th>90</th>\n",
       "      <td>5.5</td>\n",
       "      <td>2.6</td>\n",
       "      <td>4.4</td>\n",
       "      <td>1.2</td>\n",
       "      <td>Iris-versicolor</td>\n",
       "      <td>Iris-versicolor</td>\n",
       "    </tr>\n",
       "  </tbody>\n",
       "</table>\n",
       "</div>"
      ],
      "text/plain": [
       "     sepal_length  sepal_width  petal_length  petal_width            class  \\\n",
       "94            5.6          2.7           4.2          1.3  Iris-versicolor   \n",
       "99            5.7          2.8           4.1          1.3  Iris-versicolor   \n",
       "132           6.4          2.8           5.6          2.2   Iris-virginica   \n",
       "0             5.1          3.5           1.4          0.2      Iris-setosa   \n",
       "126           6.2          2.8           4.8          1.8   Iris-virginica   \n",
       "54            6.5          2.8           4.6          1.5  Iris-versicolor   \n",
       "52            6.9          3.1           4.9          1.5  Iris-versicolor   \n",
       "58            6.6          2.9           4.6          1.3  Iris-versicolor   \n",
       "148           6.2          3.4           5.4          2.3   Iris-virginica   \n",
       "127           6.1          3.0           4.9          1.8   Iris-virginica   \n",
       "98            5.1          2.5           3.0          1.1  Iris-versicolor   \n",
       "66            5.6          3.0           4.5          1.5  Iris-versicolor   \n",
       "80            5.5          2.4           3.8          1.1  Iris-versicolor   \n",
       "32            5.2          4.1           1.5          0.1      Iris-setosa   \n",
       "78            6.0          2.9           4.5          1.5  Iris-versicolor   \n",
       "106           4.9          2.5           4.5          1.7   Iris-virginica   \n",
       "48            5.3          3.7           1.5          0.2      Iris-setosa   \n",
       "2             4.7          3.2           1.3          0.2      Iris-setosa   \n",
       "76            6.8          2.8           4.8          1.4  Iris-versicolor   \n",
       "96            5.7          2.9           4.2          1.3  Iris-versicolor   \n",
       "104           6.5          3.0           5.8          2.2   Iris-virginica   \n",
       "109           7.2          3.6           6.1          2.5   Iris-virginica   \n",
       "103           6.3          2.9           5.6          1.8   Iris-virginica   \n",
       "59            5.2          2.7           3.9          1.4  Iris-versicolor   \n",
       "1             4.9          3.0           1.4          0.2      Iris-setosa   \n",
       "30            4.8          3.1           1.6          0.2      Iris-setosa   \n",
       "14            5.8          4.0           1.2          0.2      Iris-setosa   \n",
       "139           6.9          3.1           5.4          2.1   Iris-virginica   \n",
       "16            5.4          3.9           1.3          0.4      Iris-setosa   \n",
       "90            5.5          2.6           4.4          1.2  Iris-versicolor   \n",
       "\n",
       "             predict  \n",
       "94   Iris-versicolor  \n",
       "99   Iris-versicolor  \n",
       "132   Iris-virginica  \n",
       "0        Iris-setosa  \n",
       "126  Iris-versicolor  \n",
       "54   Iris-versicolor  \n",
       "52   Iris-versicolor  \n",
       "58   Iris-versicolor  \n",
       "148   Iris-virginica  \n",
       "127   Iris-virginica  \n",
       "98   Iris-versicolor  \n",
       "66   Iris-versicolor  \n",
       "80   Iris-versicolor  \n",
       "32       Iris-setosa  \n",
       "78   Iris-versicolor  \n",
       "106  Iris-versicolor  \n",
       "48       Iris-setosa  \n",
       "2        Iris-setosa  \n",
       "76   Iris-versicolor  \n",
       "96   Iris-versicolor  \n",
       "104   Iris-virginica  \n",
       "109   Iris-virginica  \n",
       "103   Iris-virginica  \n",
       "59   Iris-versicolor  \n",
       "1        Iris-setosa  \n",
       "30       Iris-setosa  \n",
       "14       Iris-setosa  \n",
       "139   Iris-virginica  \n",
       "16       Iris-setosa  \n",
       "90   Iris-versicolor  "
      ]
     },
     "execution_count": 71,
     "metadata": {},
     "output_type": "execute_result"
    }
   ],
   "source": [
    "test"
   ]
  },
  {
   "cell_type": "markdown",
   "metadata": {},
   "source": [
    "Our algorithm worked really well! Only one incorrect prediction, we're so smart!\n",
    "\n",
    "Before we move on in today's lesson let's first show an easier way to find the accuracy since we don't always want to have to check every single prediction."
   ]
  },
  {
   "cell_type": "code",
   "execution_count": 72,
   "metadata": {},
   "outputs": [
    {
     "name": "stdout",
     "output_type": "stream",
     "text": [
      "This model was 93 % accurate on the test set.\n"
     ]
    }
   ],
   "source": [
    "Correct = sum(test['predict'] == test['class'])\n",
    "print \"This model was \" + str(Correct*100/len(test)) + \" % accurate on the test set.\""
   ]
  },
  {
   "cell_type": "code",
   "execution_count": 73,
   "metadata": {
    "collapsed": true
   },
   "outputs": [
    {
     "data": {
      "image/png": "[encoded data removed]",
      "text/plain": [
       "<Figure size 463.5x360 with 1 Axes>"
      ]
     },
     "metadata": {},
     "output_type": "display_data"
    }
   ],
   "source": [
    "sns.lmplot(x = 'petal_length', y = 'petal_width', data = test, hue = 'class', fit_reg=False,markers = ['o','x','^'])\n",
    "plt.show()"
   ]
  },
  {
   "cell_type": "code",
   "execution_count": 74,
   "metadata": {
    "collapsed": true
   },
   "outputs": [
    {
     "data": {
      "image/png": "[encoded data removed]",
      "text/plain": [
       "<Figure size 463.5x360 with 1 Axes>"
      ]
     },
     "metadata": {},
     "output_type": "display_data"
    }
   ],
   "source": [
    "sns.lmplot(x = 'petal_length', y = 'petal_width', data = test, hue = 'predict', fit_reg=False,markers = ['o','x','^'])\n",
    "plt.show()"
   ]
  },
  {
   "cell_type": "markdown",
   "metadata": {},
   "source": [
    "#### Exercise\n",
    "\n",
    "#### What happens as we increase and decrease the number of neighbors the model considers?"
   ]
  },
  {
   "cell_type": "code",
   "execution_count": 75,
   "metadata": {},
   "outputs": [],
   "source": [
    "# Write your code here\n",
    "\n",
    "\n",
    "\n",
    "\n"
   ]
  },
  {
   "cell_type": "code",
   "execution_count": 76,
   "metadata": {},
   "outputs": [],
   "source": [
    "# And here\n",
    "\n",
    "\n",
    "\n",
    "\n"
   ]
  },
  {
   "cell_type": "markdown",
   "metadata": {},
   "source": [
    "#### Lucky Number Seven\n",
    "\n",
    "We'll learn one more classification technique today called stochastic gradient descent (SGD). The mathematics behind this technique are a little more complex than I'd like to delve into in this notebook.\n",
    "\n",
    "We'll use SGD to help us predict whether or not a handwritten number is a 7. As always we need data, we'll be using the MNIST dataset that contains 70000 images of handwritten digits represented as 784 pixels of a 28x28 pixel grid."
   ]
  },
  {
   "cell_type": "code",
   "execution_count": null,
   "metadata": {},
   "outputs": [],
   "source": [
    "# Run this first, but ignore the actual code\n",
    "from shutil import copyfileobj\n",
    "from six.moves import urllib\n",
    "from sklearn.datasets.base import get_data_home\n",
    "import os\n",
    "\n",
    "def fetch_mnist(data_home=None):\n",
    "    mnist_alternative_url = \"https://github.com/amplab/datascience-sp14/raw/master/lab7/mldata/mnist-original.mat\"\n",
    "    data_home = get_data_home(data_home=data_home)\n",
    "    data_home = os.path.join(data_home, 'mldata')\n",
    "    if not os.path.exists(data_home):\n",
    "        os.makedirs(data_home)\n",
    "    mnist_save_path = os.path.join(data_home, \"mnist-original.mat\")\n",
    "    if not os.path.exists(mnist_save_path):\n",
    "        mnist_url = urllib.request.urlopen(mnist_alternative_url)\n",
    "        with open(mnist_save_path, \"wb\") as matlab_file:\n",
    "            copyfileobj(mnist_url, matlab_file)\n",
    "            \n",
    "fetch_mnist()"
   ]
  },
  {
   "cell_type": "code",
   "execution_count": 82,
   "metadata": {},
   "outputs": [],
   "source": [
    "# imports the data from sklearn\n",
    "from sklearn.datasets import fetch_mldata\n",
    "mnist = fetch_mldata('MNIST original')\n",
    "\n",
    "# X contains the data, y contains the class (aka what number it is)\n",
    "X, y = mnist['data'],mnist['target']"
   ]
  },
  {
   "cell_type": "code",
   "execution_count": 94,
   "metadata": {
    "collapsed": true
   },
   "outputs": [
    {
     "data": {
      "image/png": "[encoded data removed]",
      "text/plain": [
       "<Figure size 432x288 with 1 Axes>"
      ]
     },
     "metadata": {},
     "output_type": "display_data"
    }
   ],
   "source": [
    "# Let's plot a random number from the dataset\n",
    "SomeNum = X[np.random.randint(0,70000)]\n",
    "SomeNumPic = SomeNum.reshape(28, 28)\n",
    "\n",
    "plt.imshow(SomeNumPic, cmap = matplotlib.cm.binary, interpolation = \"nearest\")\n",
    "plt.axis(\"off\")\n",
    "plt.show()"
   ]
  },
  {
   "cell_type": "code",
   "execution_count": 95,
   "metadata": {},
   "outputs": [],
   "source": [
    "# Let's shuffle up the order of the data\n",
    "shuffle = np.random.permutation(70000)\n",
    "\n",
    "X,y = X[shuffle],y[shuffle]\n",
    "\n",
    "# Make our train and test sets\n",
    "X_train, y_train, X_test, y_test = X[:60000], y[:60000], X[60000:], y[60000:]"
   ]
  },
  {
   "cell_type": "markdown",
   "metadata": {},
   "source": [
    "We're gonna make our job easier by only classifying whether or not a number is a 7. To do this we need to slightly alter our output variables to be True if the number is a 7 and False otherwise."
   ]
  },
  {
   "cell_type": "code",
   "execution_count": 98,
   "metadata": {},
   "outputs": [],
   "source": [
    "y_train_7 = (y_train == 7)\n",
    "y_test_7 = (y_test == 7)"
   ]
  },
  {
   "cell_type": "markdown",
   "metadata": {},
   "source": [
    "Now we can fit our model using the training data."
   ]
  },
  {
   "cell_type": "code",
   "execution_count": 100,
   "metadata": {
    "collapsed": true
   },
   "outputs": [
    {
     "name": "stderr",
     "output_type": "stream",
     "text": [
      "c:\\python27\\lib\\site-packages\\sklearn\\linear_model\\stochastic_gradient.py:128: FutureWarning: max_iter and tol parameters have been added in <class 'sklearn.linear_model.stochastic_gradient.SGDClassifier'> in 0.19. If both are left unset, they default to max_iter=5 and tol=None. If tol is not None, max_iter defaults to max_iter=1000. From 0.21, default max_iter will be 1000, and default tol will be 1e-3.\n",
      "  \"and default tol will be 1e-3.\" % type(self), FutureWarning)\n"
     ]
    },
    {
     "data": {
      "text/plain": [
       "SGDClassifier(alpha=0.0001, average=False, class_weight=None, epsilon=0.1,\n",
       "       eta0=0.0, fit_intercept=True, l1_ratio=0.15,\n",
       "       learning_rate='optimal', loss='hinge', max_iter=None, n_iter=None,\n",
       "       n_jobs=1, penalty='l2', power_t=0.5, random_state=440, shuffle=True,\n",
       "       tol=None, verbose=0, warm_start=False)"
      ]
     },
     "execution_count": 100,
     "metadata": {},
     "output_type": "execute_result"
    }
   ],
   "source": [
    "# make the SDG model\n",
    "SGD = SGDClassifier(random_state = 440)\n",
    "\n",
    "# Train the model\n",
    "SGD.fit(X_train, y_train_7)"
   ]
  },
  {
   "cell_type": "markdown",
   "metadata": {},
   "source": [
    "Let's see what the model says about our number from earlier."
   ]
  },
  {
   "cell_type": "code",
   "execution_count": 101,
   "metadata": {
    "collapsed": true
   },
   "outputs": [
    {
     "data": {
      "text/plain": [
       "array([False])"
      ]
     },
     "execution_count": 101,
     "metadata": {},
     "output_type": "execute_result"
    }
   ],
   "source": [
    "SGD.predict([SomeNum])"
   ]
  },
  {
   "cell_type": "markdown",
   "metadata": {},
   "source": [
    "You can look back at the plot we made earlier in the notebook to see if our model worked on this number.\n",
    "\n",
    "##### Cross Validation\n",
    "\n",
    "We need to look at more than one number if we want to measure how good our model is. To do this we'll introduce k-fold cross validation. The idea behind k-fold cross validation is you break up your training set into k roughly equal sized subsets. You set aside one of those subsets and train a model on the remaining subsets. You then find the error on the subset you set aside. You do this for each of the k subsets and then average all of the errors. <img src = \"Data\\cv.jpg\"> The idea being that by averaging all of the errors together you approach the expected error of the model. \n",
    "\n",
    "Let's see how to implement this in python"
   ]
  },
  {
   "cell_type": "code",
   "execution_count": 103,
   "metadata": {},
   "outputs": [
    {
     "name": "stdout",
     "output_type": "stream",
     "text": [
      "[0.9788351  0.95883676 0.97683333 0.97158097 0.97758147]\n",
      "\n",
      "\n",
      "Average cv accuracy: 0.9727335248428254\n"
     ]
    }
   ],
   "source": [
    "# cross-validation with 5 folds\n",
    "Scores = cross_val_score(SGD,X_train,y_train_7,cv=5,scoring = \"accuracy\")\n",
    "print Scores\n",
    "print \"\\n\"\n",
    "print \"Average cv accuracy: \" + str(np.mean(Scores))"
   ]
  },
  {
   "cell_type": "markdown",
   "metadata": {},
   "source": [
    "Looks like our model worked pretty well!\n",
    "\n",
    "Not too fast there! What if we hust made a model that predicted none of the numbers are 7?"
   ]
  },
  {
   "cell_type": "code",
   "execution_count": 105,
   "metadata": {},
   "outputs": [],
   "source": [
    "# make a never 7 classifier\n",
    "class Never7(BaseEstimator):\n",
    "    def fit(self, X, y=None):\n",
    "        pass\n",
    "    def predict(self, X):\n",
    "        return np.zeros((len(X),1),dtype = bool)"
   ]
  },
  {
   "cell_type": "code",
   "execution_count": 106,
   "metadata": {},
   "outputs": [
    {
     "name": "stdout",
     "output_type": "stream",
     "text": [
      "[0.89541667 0.8925     0.89625    0.89075    0.902     ]\n",
      "\n",
      "\n",
      "Average cv accuracy: 0.8953833333333334\n"
     ]
    }
   ],
   "source": [
    "# Measure the accuracy\n",
    "\n",
    "# make classifier\n",
    "Never7 = Never7()\n",
    "\n",
    "# 5-fold cross-validation\n",
    "Scores = cross_val_score(Never7, X_train, y_train_7, cv = 5, scoring = \"accuracy\")\n",
    "\n",
    "print Scores\n",
    "print \"\\n\"\n",
    "print \"Average cv accuracy: \" + str(np.mean(Scores))"
   ]
  },
  {
   "cell_type": "markdown",
   "metadata": {},
   "source": [
    "So a model that just classifies every number as not a 7 has about 90% accuracy, so may we need a different sort of goodness measurement. \n",
    "\n",
    "##### The Confusion Matrix\n",
    "\n",
    "When it comes to classifiers there are a number of ways that we can measure model goodness. These goodness measures revolve around something called the confusion matrix. <img src = \"Data\\Confusion.png\"> Image taken from [here](https://www.dataschool.io/simple-guide-to-confusion-matrix-terminology/)\n",
    "\n",
    "The idea here is that we track our predictions along with the actual values to determine the number of:\n",
    "1. True Positives (TP) - predict a number is a 7 when it actually is a 7,\n",
    "2. True Negatives (TN) - predict a number is not a 7 when it actually is not a 7,\n",
    "3. False Positive (FP) - predict a number is a 7 when it actually is not a 7,\n",
    "4. False Negative (FN) - predict a number is not a 7 when it actually is a 7.\n",
    "\n",
    "Let's see how we can make a confusion matrix for our model using python\n",
    "\n"
   ]
  },
  {
   "cell_type": "code",
   "execution_count": 111,
   "metadata": {},
   "outputs": [
    {
     "name": "stdout",
     "output_type": "stream",
     "text": [
      "[[53273   450]\n",
      " [ 1186  5091]]\n"
     ]
    }
   ],
   "source": [
    "# Using a cross validation approach to make predictions from the training set\n",
    "y_train_pred = cross_val_predict(SGD,X_train,y_train_7,cv = 5)\n",
    "\n",
    "# Prints out a confusion matrix from our predictions\n",
    "CM = confusion_matrix(y_train_7,y_train_pred)\n",
    "print CM"
   ]
  },
  {
   "cell_type": "code",
   "execution_count": 121,
   "metadata": {},
   "outputs": [],
   "source": [
    "# Stores the data for formulae\n",
    "TN,FP,FN,TP = CM.ravel()"
   ]
  },
  {
   "cell_type": "markdown",
   "metadata": {},
   "source": [
    "There are a number of measures of goodness we can extract from the confusion matrix. The two we will focus on are precision and recall. However, many other measures are of interest to various researchers. For instance [specificity and sensitivity](https://en.wikipedia.org/wiki/Sensitivity_and_specificity) are of interest to epidemiologists.\n",
    "\n",
    "Precision is given by the following formula:\n",
    "$$\n",
    "Precision = \\frac{TP}{TP+FP}.\n",
    "$$\n",
    "You can think of this in the following way, if our model is incredibly precise then when it tells us it has found a 7 we should believe it. However, this is not to say we will capture all the 7s that exist.\n",
    "\n",
    "Recall is given by the following formula:\n",
    "$$\n",
    "Recall = \\frac{TP}{TP+FN}.\n",
    "$$\n",
    "Recall can be explained in the following way, if our model has high recall then it is good at identifying all the 7s that exist. For example, if we had a recall of $1$ then if a 7 is fed into our model our model will correctly predict it is a 7.\n",
    "\n",
    "Let's find the precision and recall from our model:"
   ]
  },
  {
   "cell_type": "code",
   "execution_count": 123,
   "metadata": {
    "collapsed": true
   },
   "outputs": [
    {
     "name": "stdout",
     "output_type": "stream",
     "text": [
      "Our model's precision was: 0.9187872225230103\n",
      "\n",
      "\n",
      "Our model's recall was: 0.8110562370559184\n"
     ]
    }
   ],
   "source": [
    "print \"Our model's precision was: \" + str(precision_score(y_train_7,y_train_pred))\n",
    "print \"\\n\"\n",
    "print \"Our model's recall was: \" + str(recall_score(y_train_7,y_train_pred))"
   ]
  },
  {
   "cell_type": "markdown",
   "metadata": {},
   "source": [
    "Our precision is actually pretty good, if it says something is a 7 92% of the time it is correct. However, our recall is only 81% meaning we only detect 81% of the 7s. We can actually combine these two measures into a single measure called the $F_1$ score:\n",
    "$$\n",
    "F_1 = \\frac{2}{\\frac{1}{Precision} + \\frac{1}{Recall}}.\n",
    "$$\n",
    "\n",
    "The goal is to have a high $F_1$ score, but that can only happen if both precision and recall are high. Let's see what our $F_1$ score."
   ]
  },
  {
   "cell_type": "code",
   "execution_count": 126,
   "metadata": {},
   "outputs": [
    {
     "name": "stdout",
     "output_type": "stream",
     "text": [
      "Our model's F1 score was: 0.8615671010323236\n"
     ]
    }
   ],
   "source": [
    "print \"Our model's F1 score was: \" + str(f1_score(y_train_7,y_train_pred))"
   ]
  },
  {
   "cell_type": "markdown",
   "metadata": {},
   "source": [
    "The measure that you want to maximize really depends upon what the goal for your model is. For instance, maybe you're a doctor and you want to predict if someone has a certain disease. If the disease is not life threatening, but the treatment is incredibly invasive you probably want your precision to be high. On the other hand maybe the disease is life threatening and the only way to cure it is by detecting it early, in this case you probably want recall to be high.\n",
    "\n",
    "##### Precision/Recall Tradeoff\n",
    "\n",
    "Unfortunately there is, in general, no test that has perfect precision and recall. When you look to increase one measure you often decrease another. In machine learning this is called the precision/recall tradeoff <img src = \"Data/PrecisionRecall.png\"> Image found [here](https://towardsdatascience.com/evaluation-metrics-for-classification-409568938a7d).\n",
    "\n",
    "Here is a sample of a model with predictions that are controlled via some threshold (Note: this is similar to how SGD works). As you increase the threshold you increase precision while you decrease the model's recall. The threshold you choose to set for your model depends on the ultimate goal for your model.\n",
    "\n",
    "The last thing we'll do on this model is learn how we can set the threshold of our SGD model and see how the impacts the precision and recall.\n",
    "\n",
    "When SGD makes a classification it is based on a decision function. The model inputs a new datapoint into the decision function and if the output is higher than some threshold the model predicts it is a 7. We can change this threshold in the following way."
   ]
  },
  {
   "cell_type": "code",
   "execution_count": 130,
   "metadata": {},
   "outputs": [
    {
     "name": "stdout",
     "output_type": "stream",
     "text": [
      "SomeNum has a decision function output of: [-191621.50065393]\n"
     ]
    }
   ],
   "source": [
    "# This outputs the output from the models SGD.decision_function([SomeNum])decision function for SomeNum\n",
    "y_scores = SGD.decision_function([SomeNum])\n",
    "print \"SomeNum has a decision function output of: \" + str(y_scores)"
   ]
  },
  {
   "cell_type": "code",
   "execution_count": 131,
   "metadata": {},
   "outputs": [
    {
     "data": {
      "text/plain": [
       "array([False])"
      ]
     },
     "execution_count": 131,
     "metadata": {},
     "output_type": "execute_result"
    }
   ],
   "source": [
    "# Now we can set a threshold\n",
    "threshold = 0\n",
    "predict = (y_scores > threshold)\n",
    "predict"
   ]
  },
  {
   "cell_type": "code",
   "execution_count": 133,
   "metadata": {},
   "outputs": [
    {
     "data": {
      "text/plain": [
       "array([False])"
      ]
     },
     "execution_count": 133,
     "metadata": {},
     "output_type": "execute_result"
    }
   ],
   "source": [
    "# Set a new threshold\n",
    "threshold = -60000\n",
    "predict = (y_scores > threshold)\n",
    "predict"
   ]
  },
  {
   "cell_type": "markdown",
   "metadata": {},
   "source": [
    "We've got the basic idea using one number, SomeNum, now we can get predictions for all the numbers using `cross_val_predict`."
   ]
  },
  {
   "cell_type": "code",
   "execution_count": 134,
   "metadata": {},
   "outputs": [],
   "source": [
    "# Tells computer to put every value into the SGD decision_function\n",
    "y_scores = cross_val_predict(SGD, X_train, y_train_7, cv = 5, method = \"decision_function\")"
   ]
  },
  {
   "cell_type": "markdown",
   "metadata": {},
   "source": [
    "We can use these scores to make a precision recall curve for a number of different threshold values."
   ]
  },
  {
   "cell_type": "code",
   "execution_count": 142,
   "metadata": {
    "collapsed": true
   },
   "outputs": [
    {
     "data": {
      "image/png": "[encoded data removed]",
      "text/plain": [
       "<Figure size 720x720 with 1 Axes>"
      ]
     },
     "metadata": {},
     "output_type": "display_data"
    }
   ],
   "source": [
    "precisions, recalls, thresholds = precision_recall_curve(y_train_7, y_scores)\n",
    "\n",
    "# Now we'll plot our precision recall curves using matplotlib.pyplot\n",
    "\n",
    "def plot_precision_recall_vs_threshold(precisions, recalls, thresholds):\n",
    "    plt.figure(figsize = (10,10))\n",
    "    plt.plot(thresholds, precisions[:-1], \"b--\", label = \"Precision\")\n",
    "    plt.plot(thresholds, recalls[:-1], \"g-\",label = \"Recall\")\n",
    "    plt.xlabel(\"Threshold\")\n",
    "    plt.legend(loc = \"best\")\n",
    "    plt.ylim([-.05,1.05])\n",
    "    plt.grid()\n",
    "    \n",
    "plot_precision_recall_vs_threshold(precisions,recalls,thresholds)\n",
    "plt.show()"
   ]
  },
  {
   "cell_type": "code",
   "execution_count": 141,
   "metadata": {
    "collapsed": true
   },
   "outputs": [
    {
     "data": {
      "image/png": "[encoded data removed]",
      "text/plain": [
       "<Figure size 720x720 with 1 Axes>"
      ]
     },
     "metadata": {},
     "output_type": "display_data"
    }
   ],
   "source": [
    "# We can also plot precision vs recall\n",
    "plt.figure(figsize = (10,10))\n",
    "plt.plot(recalls[:-1],precisions[:-1])\n",
    "plt.xlabel(\"Recall\")\n",
    "plt.ylabel(\"Precision\")\n",
    "plt.grid()\n",
    "plt.show()"
   ]
  },
  {
   "cell_type": "markdown",
   "metadata": {},
   "source": [
    "These two curves show that we can make a model that has virtually any precision or recall that we want. This is actually true for any classifier performance measure, the model that we choose just depends on the task we wish to accomplish.\n",
    "\n",
    "### Exercises\\Homework\n",
    "\n",
    "#### Build a SGD classifie that determines if a number is a 0 or not.\n",
    "\n",
    "#### What is the cross-validation accuracy of your model? What is the precision and recall?\n",
    "\n",
    "#### Plot precision and recall curves for your model."
   ]
  },
  {
   "cell_type": "code",
   "execution_count": 143,
   "metadata": {},
   "outputs": [],
   "source": [
    "# Do your work here\n",
    "\n",
    "\n",
    "\n",
    "\n",
    "\n"
   ]
  },
  {
   "cell_type": "code",
   "execution_count": 144,
   "metadata": {},
   "outputs": [],
   "source": [
    "# And here\n",
    "\n",
    "\n",
    "\n",
    "\n",
    "\n"
   ]
  },
  {
   "cell_type": "code",
   "execution_count": 145,
   "metadata": {},
   "outputs": [],
   "source": [
    "# And here\n",
    "\n",
    "\n",
    "\n",
    "\n",
    "\n"
   ]
  },
  {
   "cell_type": "code",
   "execution_count": 146,
   "metadata": {},
   "outputs": [],
   "source": [
    "# And here\n",
    "\n",
    "\n",
    "\n",
    "\n",
    "\n"
   ]
  },
  {
   "cell_type": "code",
   "execution_count": null,
   "metadata": {},
   "outputs": [],
   "source": []
  }
 ],
 "metadata": {
  "kernelspec": {
   "display_name": "Python 2",
   "language": "python",
   "name": "python2"
  },
  "language_info": {
   "codemirror_mode": {
    "name": "ipython",
    "version": 2
   },
   "file_extension": ".py",
   "mimetype": "text/x-python",
   "name": "python",
   "nbconvert_exporter": "python",
   "pygments_lexer": "ipython2",
   "version": "2.7.14"
  }
 },
 "nbformat": 4,
 "nbformat_minor": 2
}
