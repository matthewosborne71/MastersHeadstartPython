{
 "cells": [
  {
   "cell_type": "markdown",
   "metadata": {},
   "source": [
    "# Probability and Some Plotting\n",
    "\n",
    "Today we'll learn about python's random package and a little about the matplotlib package.\n",
    "\n",
    "### Random\n",
    "\n",
    "Run the following line of code"
   ]
  },
  {
   "cell_type": "code",
   "execution_count": 1,
   "metadata": {},
   "outputs": [],
   "source": [
    "import random"
   ]
  },
  {
   "cell_type": "markdown",
   "metadata": {},
   "source": [
    "You have now imported a package! Way to go you. We now have access to everything included in the random package. We'll use the random package to perform a number of probability simulations.\n",
    "\n",
    "The first thing we'll do is make a random number."
   ]
  },
  {
   "cell_type": "code",
   "execution_count": 3,
   "metadata": {
    "collapsed": true
   },
   "outputs": [
    {
     "name": "stdout",
     "output_type": "stream",
     "text": [
      "Here is a random number, 0.101344113906\n",
      "Here is another one, 0.443406570606\n"
     ]
    }
   ],
   "source": [
    "# The random() function creates a random number between 0 and 1.\n",
    "# In order to access it we have to use the syntax random.random().\n",
    "# This is because random() is built into the random package.\n",
    "print \"Here is a random number, \" + str(random.random())\n",
    "print \"Here is another one, \" + str(random.random())"
   ]
  },
  {
   "cell_type": "markdown",
   "metadata": {},
   "source": [
    "### Exercise \n",
    "\n",
    "Pull a random number between -20 and 17."
   ]
  },
  {
   "cell_type": "code",
   "execution_count": null,
   "metadata": {},
   "outputs": [],
   "source": [
    "# Write your code here\n",
    "\n",
    "\n",
    "\n",
    "\n"
   ]
  },
  {
   "cell_type": "markdown",
   "metadata": {},
   "source": [
    "There is an easier way to answer this using another function in random."
   ]
  },
  {
   "cell_type": "code",
   "execution_count": 5,
   "metadata": {
    "collapsed": true
   },
   "outputs": [
    {
     "name": "stdout",
     "output_type": "stream",
     "text": [
      "The number is 2.58468637912!\n"
     ]
    }
   ],
   "source": [
    "# uniform(a,b) generates a randomly selected number between a and b\n",
    "Number = random.uniform(-20,17)\n",
    "\n",
    "print \"The number is \" + str(Number) + \"!\""
   ]
  },
  {
   "cell_type": "markdown",
   "metadata": {},
   "source": [
    "### More Exercises\n",
    "\n",
    "#### 1. Write a function that simulates a coin flip called coin_flip (make sure the output is H for heads and T for tails)."
   ]
  },
  {
   "cell_type": "code",
   "execution_count": 7,
   "metadata": {},
   "outputs": [],
   "source": [
    "# Answer 1. here\n",
    "\n",
    "\n",
    "\n",
    "\n",
    "\n"
   ]
  },
  {
   "cell_type": "markdown",
   "metadata": {},
   "source": [
    "#### 2. Write a function that simulates a bias coin flip, that takes in the probability of heads as an input. Call it biased_flip."
   ]
  },
  {
   "cell_type": "code",
   "execution_count": null,
   "metadata": {},
   "outputs": [],
   "source": [
    "# Answer 2. here\n",
    "\n",
    "\n",
    "\n"
   ]
  },
  {
   "cell_type": "markdown",
   "metadata": {},
   "source": [
    "### A Random Walk\n",
    "\n",
    "Now we'll use your function coin_flip to write a random walk simulator.\n",
    "\n",
    "#### What is a Random Walk?\n",
    "\n",
    "Imagine you're on a sidewalk. You flip a coin and the outcome of the toss determines if we step forward or backward. If a heads shows up you step forward if a tails shows up you take a step backward. You do this a bunch of times, and your position over time is the random walk. We'll write our function below:"
   ]
  },
  {
   "cell_type": "code",
   "execution_count": 13,
   "metadata": {},
   "outputs": [],
   "source": [
    "# RandomWalk takes in a number of steps and outputs a list with our current position at each step\n",
    "def RandomWalk(NumSteps):\n",
    "    \n",
    "    # We start at 0\n",
    "    CurrentPosition = 0\n",
    "    \n",
    "    # Initializing a list\n",
    "    Positions = [0]\n",
    "    \n",
    "    # For each step we'll flip a coin and check the outcome\n",
    "    for i in range(NumSteps):\n",
    "        if coin_flip() == \"H\":\n",
    "            # If heads we step forward\n",
    "            CurrentPosition = CurrentPosition + 1\n",
    "            \n",
    "        elif coin_flip() == \"T\":\n",
    "            # If tails we step back\n",
    "            CurrentPosition = CurrentPosition - 1\n",
    "        \n",
    "        # Add our Current Position to the running list of positions\n",
    "        Positions.append(CurrentPosition)\n",
    "    \n",
    "    return Positions   "
   ]
  },
  {
   "cell_type": "code",
   "execution_count": 17,
   "metadata": {},
   "outputs": [],
   "source": [
    "# Now we can perform a random walk with however many steps we want\n",
    "Positions = RandomWalk(1000)"
   ]
  },
  {
   "cell_type": "code",
   "execution_count": 18,
   "metadata": {
    "collapsed": true
   },
   "outputs": [
    {
     "name": "stdout",
     "output_type": "stream",
     "text": [
      "[0, 0, -1, -1, 0, 0, 1, 1, 1, 2, 2, 3, 2, 3, 4, 5, 5, 6, 7, 7, 6, 5, 5, 4, 5, 5, 5, 6, 7, 7, 6, 7, 6, 7, 7, 8, 9, 8, 7, 6, 5, 4, 5, 6, 7, 6, 6, 7, 7, 7, 8, 8, 7, 8, 7, 8, 9, 9, 10, 9, 10, 11, 10, 10, 11, 11, 10, 11, 10, 11, 11, 12, 11, 10, 11, 12, 13, 13, 14, 14, 13, 13, 13, 14, 14, 15, 16, 15, 15, 16, 16, 16, 17, 18, 19, 20, 21, 22, 21, 22, 22, 23, 24, 25, 26, 27, 27, 26, 25, 25, 25, 24, 24, 25, 24, 25, 26, 26, 27, 27, 28, 29, 30, 31, 32, 31, 32, 33, 32, 33, 34, 34, 35, 36, 37, 37, 37, 38, 37, 37, 38, 38, 39, 38, 39, 39, 40, 39, 38, 39, 38, 39, 40, 39, 38, 39, 40, 41, 40, 40, 41, 42, 41, 42, 43, 43, 44, 43, 42, 43, 44, 44, 45, 46, 47, 46, 46, 45, 44, 45, 45, 46, 45, 46, 47, 47, 46, 46, 47, 47, 48, 47, 48, 48, 47, 48, 47, 48, 49, 48, 49, 48, 48, 49, 50, 51, 50, 49, 50, 51, 52, 52, 53, 52, 52, 53, 52, 52, 52, 52, 51, 50, 51, 52, 52, 51, 51, 50, 51, 50, 51, 52, 52, 51, 52, 51, 51, 52, 52, 52, 51, 52, 53, 54, 53, 53, 52, 53, 52, 53, 53, 54, 55, 55, 56, 57, 58, 59, 59, 58, 58, 59, 58, 57, 57, 58, 57, 58, 59, 58, 57, 56, 57, 57, 58, 57, 58, 59, 60, 59, 58, 59, 60, 59, 59, 58, 58, 59, 58, 58, 59, 60, 61, 62, 61, 60, 61, 62, 63, 64, 64, 63, 64, 65, 66, 67, 67, 67, 67, 66, 67, 68, 69, 70, 71, 72, 73, 74, 75, 76, 77, 78, 78, 79, 78, 79, 79, 79, 79, 80, 79, 79, 80, 81, 80, 80, 81, 82, 81, 81, 82, 83, 83, 83, 82, 83, 82, 81, 81, 80, 80, 81, 82, 82, 83, 84, 85, 86, 86, 87, 86, 85, 86, 87, 88, 89, 90, 90, 91, 92, 92, 92, 93, 94, 93, 92, 92, 92, 91, 92, 91, 92, 93, 93, 94, 93, 92, 91, 90, 91, 92, 93, 94, 93, 93, 92, 93, 93, 94, 95, 96, 95, 96, 97, 98, 98, 99, 100, 100, 100, 101, 101, 100, 99, 100, 101, 102, 102, 102, 103, 103, 103, 103, 104, 105, 106, 105, 106, 107, 108, 109, 108, 109, 110, 109, 110, 109, 108, 107, 107, 106, 107, 108, 109, 108, 109, 108, 107, 106, 105, 106, 107, 108, 109, 109, 108, 107, 106, 105, 106, 107, 106, 106, 107, 108, 107, 108, 109, 109, 110, 111, 112, 113, 112, 111, 111, 112, 112, 113, 113, 114, 115, 116, 115, 115, 115, 115, 115, 116, 117, 118, 118, 119, 118, 119, 120, 119, 119, 118, 119, 120, 121, 121, 122, 123, 123, 123, 122, 121, 122, 123, 124, 124, 125, 126, 125, 126, 127, 126, 125, 124, 124, 123, 122, 123, 122, 121, 122, 122, 123, 123, 122, 122, 121, 122, 123, 123, 122, 122, 122, 122, 123, 122, 121, 122, 122, 123, 124, 125, 124, 125, 126, 127, 126, 125, 126, 126, 127, 127, 127, 128, 128, 128, 128, 129, 130, 131, 130, 131, 130, 129, 130, 129, 129, 128, 129, 130, 131, 132, 133, 134, 135, 136, 136, 136, 136, 137, 136, 136, 136, 135, 134, 133, 134, 135, 136, 135, 136, 135, 136, 135, 135, 135, 136, 137, 137, 136, 137, 136, 136, 137, 138, 137, 138, 139, 140, 139, 139, 140, 140, 141, 140, 140, 141, 141, 142, 143, 144, 144, 145, 145, 146, 145, 146, 145, 146, 146, 147, 146, 145, 144, 145, 145, 146, 146, 145, 146, 145, 145, 144, 143, 143, 142, 141, 141, 140, 139, 139, 140, 140, 140, 139, 139, 138, 139, 140, 141, 142, 143, 144, 144, 145, 146, 147, 148, 149, 148, 147, 146, 146, 146, 147, 146, 146, 146, 145, 145, 146, 147, 148, 149, 150, 151, 151, 152, 151, 152, 153, 153, 153, 152, 151, 152, 151, 152, 151, 151, 151, 152, 153, 152, 153, 153, 152, 153, 154, 155, 156, 155, 156, 155, 154, 154, 155, 156, 157, 158, 159, 159, 159, 160, 160, 160, 160, 160, 159, 159, 159, 160, 161, 161, 162, 163, 164, 163, 162, 162, 163, 164, 164, 164, 165, 164, 165, 164, 163, 162, 163, 162, 163, 164, 164, 165, 165, 164, 165, 164, 165, 164, 164, 165, 164, 163, 164, 165, 164, 163, 164, 164, 165, 165, 166, 166, 167, 167, 166, 167, 166, 167, 168, 167, 167, 168, 169, 170, 170, 171, 172, 173, 172, 173, 174, 173, 173, 174, 173, 173, 173, 172, 171, 170, 171, 172, 173, 173, 174, 175, 176, 176, 176, 176, 177, 176, 177, 178, 177, 178, 179, 180, 181, 182, 183, 184, 183, 183, 183, 183, 182, 183, 184, 183, 182, 183, 183, 182, 183, 184, 184, 185, 186, 185, 184, 183, 184, 185, 186, 187, 188, 188, 189, 189, 188, 188, 187, 186, 186, 187, 188, 189, 188, 189, 190, 189, 188, 189, 190, 191, 191, 190, 190, 191, 192, 193, 194, 195, 195, 196, 195, 195, 196, 196, 196, 196, 197, 196, 197, 197, 197, 197, 196, 196, 196, 197, 197, 196, 196, 197, 196, 195, 196, 197, 198, 199, 200, 200, 201, 202, 202, 201, 200, 201, 202, 202, 203, 203, 203, 203, 203, 204, 203, 203, 204, 204, 205, 205, 204, 203, 204, 203, 203, 203, 204, 203, 204, 204, 205, 206, 207, 207, 206, 207, 206, 207, 208, 209, 210, 211, 211, 211, 211, 212, 213, 214, 213, 214, 215, 216, 217, 218, 217, 218, 219, 220, 220, 219, 220, 220, 221, 220, 221, 222, 222, 223, 224, 225, 225, 225, 226, 225, 225, 224, 225, 225, 225, 226, 227, 226, 226, 226, 227, 226]\n"
     ]
    }
   ],
   "source": [
    "print Positions"
   ]
  },
  {
   "cell_type": "markdown",
   "metadata": {},
   "source": [
    "### Plotting\n",
    "\n",
    "It's nice to have our random walk, but a long list of numbers is kind of hard to understand. It would be great if we could visualize the walk. This is where matplotlib comes in!"
   ]
  },
  {
   "cell_type": "code",
   "execution_count": 14,
   "metadata": {},
   "outputs": [],
   "source": [
    "import matplotlib.pyplot as plt"
   ]
  },
  {
   "cell_type": "markdown",
   "metadata": {},
   "source": [
    "In the above code we import a specific portion of the matplotlib package called pyplot. In addition we import it as plt. This means that when we imported it we told python that we want to call it plt. Thus when we call a function from matplotlib.pyplot we would write plt. Let's see a simple example."
   ]
  },
  {
   "cell_type": "code",
   "execution_count": 15,
   "metadata": {
    "collapsed": true
   },
   "outputs": [
    {
     "data": {
      "text/plain": [
       "[<matplotlib.lines.Line2D at 0xdd36198>]"
      ]
     },
     "execution_count": 15,
     "metadata": {},
     "output_type": "execute_result"
    },
    {
     "data": {
      "image/png": "[encoded data removed]",
      "text/plain": [
       "<Figure size 432x288 with 1 Axes>"
      ]
     },
     "metadata": {},
     "output_type": "display_data"
    }
   ],
   "source": [
    "# Here we call plt's plot function to plot the line y = x from 0 to 10\n",
    "plt.plot(range(10),range(10))"
   ]
  },
  {
   "cell_type": "markdown",
   "metadata": {},
   "source": [
    "We can use this function to plot our random walk."
   ]
  },
  {
   "cell_type": "code",
   "execution_count": 19,
   "metadata": {
    "collapsed": true
   },
   "outputs": [
    {
     "data": {
      "text/plain": [
       "[<matplotlib.lines.Line2D at 0xe139f98>]"
      ]
     },
     "execution_count": 19,
     "metadata": {},
     "output_type": "execute_result"
    },
    {
     "data": {
      "image/png": "[encoded data removed]",
      "text/plain": [
       "<Figure size 432x288 with 1 Axes>"
      ]
     },
     "metadata": {},
     "output_type": "display_data"
    }
   ],
   "source": [
    "# Make a variable called steps to use on the x-axis\n",
    "steps = range(len(Positions))\n",
    "\n",
    "# plot our random walk\n",
    "plt.plot(steps,Positions)\n",
    "plt.show()"
   ]
  },
  {
   "cell_type": "markdown",
   "metadata": {},
   "source": [
    "We can even plot more than one random walk at once!"
   ]
  },
  {
   "cell_type": "code",
   "execution_count": 30,
   "metadata": {
    "collapsed": true
   },
   "outputs": [
    {
     "data": {
      "image/png": "[encoded data removed]",
      "text/plain": [
       "<Figure size 432x288 with 1 Axes>"
      ]
     },
     "metadata": {},
     "output_type": "display_data"
    }
   ],
   "source": [
    "NumSteps = 500\n",
    "steps = range(NumSteps + 1)\n",
    "\n",
    "Positions1 = RandomWalk(NumSteps)\n",
    "Positions2 = RandomWalk(NumSteps)\n",
    "\n",
    "# Open a figure\n",
    "plt.figure()\n",
    "\n",
    "# plot the first walk\n",
    "plt.plot(steps,Positions1)\n",
    "\n",
    "# plot the second walk\n",
    "plt.plot(steps,Positions2)\n",
    "\n",
    "# Show the plot\n",
    "plt.show()"
   ]
  },
  {
   "cell_type": "markdown",
   "metadata": {},
   "source": [
    "But this isn't the best plot. We don't have any labels and we don't know which walk is which."
   ]
  },
  {
   "cell_type": "code",
   "execution_count": 32,
   "metadata": {
    "collapsed": true
   },
   "outputs": [
    {
     "data": {
      "image/png": "[encoded data removed]",
      "text/plain": [
       "<Figure size 432x288 with 1 Axes>"
      ]
     },
     "metadata": {},
     "output_type": "display_data"
    }
   ],
   "source": [
    "# Open a figure\n",
    "plt.figure()\n",
    "\n",
    "# plot the first walk\n",
    "plt.plot(steps, Positions1, color = \"red\", label = \"First Walk\")\n",
    "\n",
    "# plot the second walk\n",
    "plt.plot(steps, Positions2, color = \"blue\", label = \"Second Walk\")\n",
    "\n",
    "# Add a title\n",
    "plt.title(\"Some Random Walks\")\n",
    "\n",
    "# Add an x-axis label\n",
    "plt.xlabel(\"Step\")\n",
    "\n",
    "# Add a y-axis label\n",
    "plt.ylabel(\"Position\")\n",
    "\n",
    "# Add a plot legend\n",
    "plt.legend()\n",
    "\n",
    "# Show the plot\n",
    "plt.show()"
   ]
  },
  {
   "cell_type": "markdown",
   "metadata": {},
   "source": [
    "### Exercise/Homework\n",
    "\n",
    "Plot three biased random walks using your biased_flip function for the coin flip. Each walk should have a different probability for heads."
   ]
  },
  {
   "cell_type": "code",
   "execution_count": null,
   "metadata": {},
   "outputs": [],
   "source": []
  }
 ],
 "metadata": {
  "kernelspec": {
   "display_name": "Python 2",
   "language": "python",
   "name": "python2"
  },
  "language_info": {
   "codemirror_mode": {
    "name": "ipython",
    "version": 2
   },
   "file_extension": ".py",
   "mimetype": "text/x-python",
   "name": "python",
   "nbconvert_exporter": "python",
   "pygments_lexer": "ipython2",
   "version": "2.7.14"
  }
 },
 "nbformat": 4,
 "nbformat_minor": 2
}
