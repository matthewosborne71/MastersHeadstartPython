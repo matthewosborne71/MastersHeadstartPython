{
 "cells": [
  {
   "cell_type": "markdown",
   "metadata": {},
   "source": [
    "# SciPy\n",
    "\n",
    "SciPy is a part of a suite of python packages geared toward more math and statistical purposes. It has a number of handy uses, today we'll focus on two that you may need while you're a grad student here at Ohio State.\n",
    "\n",
    "## NumPy\n",
    "\n",
    "In order to run anything from SciPy you'll first need to import NumPy. Run the following line of code. Note: If you find an error after running this code you will likely need to install NumPy using `pip`. Type `pip install numpy` into your command prompt or terminal to accomplish this."
   ]
  },
  {
   "cell_type": "code",
   "execution_count": 1,
   "metadata": {},
   "outputs": [],
   "source": [
    "import numpy as np"
   ]
  },
  {
   "cell_type": "markdown",
   "metadata": {},
   "source": [
    "In the above line of code we told python that we want to import the numpy package as np. It is standard to import numpy as np anytime you use it."
   ]
  },
  {
   "cell_type": "markdown",
   "metadata": {},
   "source": [
    "### Linear Algebra\n",
    "\n",
    "We'll start with using SciPy for some common linear algebra tasks. \n",
    "\n",
    "#### Linear Algebra Needs Vectors and Matrices!\n",
    "\n",
    "In order to do linear algebra we'll need some vectors and matrices. So let's learn how to use numpy to make them!"
   ]
  },
  {
   "cell_type": "code",
   "execution_count": 2,
   "metadata": {},
   "outputs": [
    {
     "name": "stdout",
     "output_type": "stream",
     "text": [
      "a = [1 2 3]\n",
      "\n",
      "\n",
      "\n",
      "B = [[1 2 3]\n",
      " [4 5 6]\n",
      " [7 8 9]]\n"
     ]
    }
   ],
   "source": [
    "# Here's how we make a numpy array\n",
    "# numpy arrays can be vectors or matrices!\n",
    "\n",
    "# a is a vector\n",
    "a = np.array([1,2,3])\n",
    "print \"a = \" + str(a)\n",
    "\n",
    "print \"\\n\\n\"\n",
    "\n",
    "\n",
    "\n",
    "# B is a 3 x 3 matrix\n",
    "B = np.array([[1,2,3],[4,5,6],[7,8,9]])\n",
    "\n",
    "print \"B = \" + str(B)"
   ]
  },
  {
   "cell_type": "code",
   "execution_count": 3,
   "metadata": {},
   "outputs": [
    {
     "name": "stdout",
     "output_type": "stream",
     "text": [
      "a's dimensions are (3L,)\n",
      "B's dimension are (3L, 3L)\n"
     ]
    }
   ],
   "source": [
    "# You can see the dimensions of the array with .shape\n",
    "print \"a's dimensions are \" + str(a.shape)\n",
    "print \"B's dimension are \" + str(B.shape)"
   ]
  },
  {
   "cell_type": "code",
   "execution_count": 4,
   "metadata": {},
   "outputs": [
    {
     "name": "stdout",
     "output_type": "stream",
     "text": [
      "[[0. 0. 0. 0.]\n",
      " [0. 0. 0. 0.]\n",
      " [0. 0. 0. 0.]\n",
      " [0. 0. 0. 0.]]\n",
      "\n",
      "\n",
      "\n",
      "[[1. 1.]\n",
      " [1. 1.]\n",
      " [1. 1.]]\n",
      "\n",
      "\n",
      "\n",
      "[[1. 0.]\n",
      " [0. 1.]]\n"
     ]
    }
   ],
   "source": [
    "# numpy also allows you to create special arrays\n",
    "# creates a 4 x 4 matrix of 0s\n",
    "Zeros = np.zeros((4,4))\n",
    "print Zeros\n",
    "print \"\\n\\n\"\n",
    "\n",
    "# creates a 3 x 2 matrix of 1s\n",
    "Ones = np.ones((3,2))\n",
    "print Ones\n",
    "print \"\\n\\n\"\n",
    "\n",
    "# creates the 2 x 2 identity\n",
    "I = np.eye(2)\n",
    "print I"
   ]
  },
  {
   "cell_type": "markdown",
   "metadata": {},
   "source": [
    "Let's also learn how to add, subtract, and multiply np arrays"
   ]
  },
  {
   "cell_type": "code",
   "execution_count": 5,
   "metadata": {},
   "outputs": [],
   "source": [
    "# Make three matrices of random numbers\n",
    "A = np.random.random((3,2))\n",
    "B = np.random.random((3,2))\n",
    "C = np.random.random((2,2))"
   ]
  },
  {
   "cell_type": "code",
   "execution_count": 6,
   "metadata": {},
   "outputs": [
    {
     "name": "stdout",
     "output_type": "stream",
     "text": [
      "[[0.99632184 0.91507453]\n",
      " [0.70390278 0.19109553]\n",
      " [0.7947497  0.46116975]] + \n",
      "\n",
      "[[0.26047336 0.69929297]\n",
      " [0.99144915 0.51983978]\n",
      " [0.62375495 0.08223885]] = \n",
      "\n",
      "[[1.25679519 1.6143675 ]\n",
      " [1.69535193 0.71093531]\n",
      " [1.41850465 0.54340861]]\n"
     ]
    }
   ],
   "source": [
    "# Adding\n",
    "print str(A) + \" + \\n\\n\" + str(B) + \" = \\n\\n\" +str(A+B) "
   ]
  },
  {
   "cell_type": "code",
   "execution_count": 7,
   "metadata": {
    "scrolled": true
   },
   "outputs": [
    {
     "name": "stdout",
     "output_type": "stream",
     "text": [
      "[[0.99632184 0.91507453]\n",
      " [0.70390278 0.19109553]\n",
      " [0.7947497  0.46116975]] - \n",
      "\n",
      "[[0.26047336 0.69929297]\n",
      " [0.99144915 0.51983978]\n",
      " [0.62375495 0.08223885]] = \n",
      "\n",
      "[[ 0.73584848  0.21578155]\n",
      " [-0.28754637 -0.32874424]\n",
      " [ 0.17099475  0.3789309 ]]\n"
     ]
    }
   ],
   "source": [
    "# Subtracting\n",
    "print str(A) + \" - \\n\\n\" + str(B) + \" = \\n\\n\" +str(A-B) "
   ]
  },
  {
   "cell_type": "code",
   "execution_count": 8,
   "metadata": {},
   "outputs": [
    {
     "name": "stdout",
     "output_type": "stream",
     "text": [
      "[[0.25951529 0.63990519]\n",
      " [0.69788381 0.09933906]\n",
      " [0.49572906 0.03792607]]\n"
     ]
    }
   ],
   "source": [
    "# Elementwise multiplication\n",
    "print A*B"
   ]
  },
  {
   "cell_type": "code",
   "execution_count": 9,
   "metadata": {},
   "outputs": [
    {
     "name": "stdout",
     "output_type": "stream",
     "text": [
      "[[0.99632184 0.91507453]\n",
      " [0.70390278 0.19109553]\n",
      " [0.7947497  0.46116975]] x \n",
      "\n",
      "[[0.66769507 0.99817505]\n",
      " [0.30821847 0.30332765]] = \n",
      "\n",
      "[[0.94728205 1.272071  ]\n",
      " [0.52889158 0.76058275]\n",
      " [0.67279149 0.93318486]]\n"
     ]
    }
   ],
   "source": [
    "# Matrix multiplication\n",
    "print str(A) + \" x \\n\"\n",
    "print str(C) + \" = \\n\"\n",
    "print np.matmul(A,C)"
   ]
  },
  {
   "cell_type": "markdown",
   "metadata": {},
   "source": [
    "### SciPy Linear Algebra\n",
    "\n",
    "Now we'll start doing some linear algebra with scipy. First run the following line of code"
   ]
  },
  {
   "cell_type": "code",
   "execution_count": 10,
   "metadata": {},
   "outputs": [],
   "source": [
    "from scipy import linalg"
   ]
  },
  {
   "cell_type": "markdown",
   "metadata": {},
   "source": [
    "Note, this is the first time we've seen this sort of import statement. What this tells python is that we want to import a very specific part of the scipy package called linalg, but nothing else.\n",
    "\n",
    "Now we'll go through some of the common linear algebra tasks.\n",
    "\n",
    "### Exercises (Learn by Doing! :-D)\n",
    "Work through the following code chunks to learn linalg."
   ]
  },
  {
   "cell_type": "code",
   "execution_count": 11,
   "metadata": {},
   "outputs": [],
   "source": [
    "## Determinants\n",
    "# To take the determinant we use the det() function from linalg.\n",
    "\n",
    "# Make three matrices\n",
    "A = np.random.random((4,4))\n",
    "B = np.array([[1,1,0],[0,1,1],[0,0,1]])\n",
    "C = np.ones((3,4))\n",
    "\n",
    "# Use det() to find the determinant of A,B,C"
   ]
  },
  {
   "cell_type": "code",
   "execution_count": 12,
   "metadata": {},
   "outputs": [
    {
     "name": "stdout",
     "output_type": "stream",
     "text": [
      "The determinant of A is -0.142161150537\n"
     ]
    }
   ],
   "source": [
    "print \"The determinant of A is \" + str(linalg.det(A))"
   ]
  },
  {
   "cell_type": "code",
   "execution_count": 13,
   "metadata": {},
   "outputs": [
    {
     "name": "stdout",
     "output_type": "stream",
     "text": [
      "The determinant of B is 1.0\n"
     ]
    }
   ],
   "source": [
    "print \"The determinant of B is \" + str(linalg.det(B))"
   ]
  },
  {
   "cell_type": "code",
   "execution_count": 14,
   "metadata": {},
   "outputs": [
    {
     "ename": "ValueError",
     "evalue": "expected square matrix",
     "output_type": "error",
     "traceback": [
      "\u001b[1;31m---------------------------------------------------------------------------\u001b[0m",
      "\u001b[1;31mValueError\u001b[0m                                Traceback (most recent call last)",
      "\u001b[1;32m<ipython-input-14-b7070c223b39>\u001b[0m in \u001b[0;36m<module>\u001b[1;34m()\u001b[0m\n\u001b[1;32m----> 1\u001b[1;33m \u001b[1;32mprint\u001b[0m \u001b[1;34m\"The determinant of C is \"\u001b[0m \u001b[1;33m+\u001b[0m \u001b[0mstr\u001b[0m\u001b[1;33m(\u001b[0m\u001b[0mlinalg\u001b[0m\u001b[1;33m.\u001b[0m\u001b[0mdet\u001b[0m\u001b[1;33m(\u001b[0m\u001b[0mC\u001b[0m\u001b[1;33m)\u001b[0m\u001b[1;33m)\u001b[0m\u001b[1;33m\u001b[0m\u001b[0m\n\u001b[0m",
      "\u001b[1;32mc:\\python27\\lib\\site-packages\\scipy\\linalg\\basic.pyc\u001b[0m in \u001b[0;36mdet\u001b[1;34m(a, overwrite_a, check_finite)\u001b[0m\n\u001b[0;32m   1030\u001b[0m     \u001b[0ma1\u001b[0m \u001b[1;33m=\u001b[0m \u001b[0m_asarray_validated\u001b[0m\u001b[1;33m(\u001b[0m\u001b[0ma\u001b[0m\u001b[1;33m,\u001b[0m \u001b[0mcheck_finite\u001b[0m\u001b[1;33m=\u001b[0m\u001b[0mcheck_finite\u001b[0m\u001b[1;33m)\u001b[0m\u001b[1;33m\u001b[0m\u001b[0m\n\u001b[0;32m   1031\u001b[0m     \u001b[1;32mif\u001b[0m \u001b[0mlen\u001b[0m\u001b[1;33m(\u001b[0m\u001b[0ma1\u001b[0m\u001b[1;33m.\u001b[0m\u001b[0mshape\u001b[0m\u001b[1;33m)\u001b[0m \u001b[1;33m!=\u001b[0m \u001b[1;36m2\u001b[0m \u001b[1;32mor\u001b[0m \u001b[0ma1\u001b[0m\u001b[1;33m.\u001b[0m\u001b[0mshape\u001b[0m\u001b[1;33m[\u001b[0m\u001b[1;36m0\u001b[0m\u001b[1;33m]\u001b[0m \u001b[1;33m!=\u001b[0m \u001b[0ma1\u001b[0m\u001b[1;33m.\u001b[0m\u001b[0mshape\u001b[0m\u001b[1;33m[\u001b[0m\u001b[1;36m1\u001b[0m\u001b[1;33m]\u001b[0m\u001b[1;33m:\u001b[0m\u001b[1;33m\u001b[0m\u001b[0m\n\u001b[1;32m-> 1032\u001b[1;33m         \u001b[1;32mraise\u001b[0m \u001b[0mValueError\u001b[0m\u001b[1;33m(\u001b[0m\u001b[1;34m'expected square matrix'\u001b[0m\u001b[1;33m)\u001b[0m\u001b[1;33m\u001b[0m\u001b[0m\n\u001b[0m\u001b[0;32m   1033\u001b[0m     \u001b[0moverwrite_a\u001b[0m \u001b[1;33m=\u001b[0m \u001b[0moverwrite_a\u001b[0m \u001b[1;32mor\u001b[0m \u001b[0m_datacopied\u001b[0m\u001b[1;33m(\u001b[0m\u001b[0ma1\u001b[0m\u001b[1;33m,\u001b[0m \u001b[0ma\u001b[0m\u001b[1;33m)\u001b[0m\u001b[1;33m\u001b[0m\u001b[0m\n\u001b[0;32m   1034\u001b[0m     \u001b[0mfdet\u001b[0m\u001b[1;33m,\u001b[0m \u001b[1;33m=\u001b[0m \u001b[0mget_flinalg_funcs\u001b[0m\u001b[1;33m(\u001b[0m\u001b[1;33m(\u001b[0m\u001b[1;34m'det'\u001b[0m\u001b[1;33m,\u001b[0m\u001b[1;33m)\u001b[0m\u001b[1;33m,\u001b[0m \u001b[1;33m(\u001b[0m\u001b[0ma1\u001b[0m\u001b[1;33m,\u001b[0m\u001b[1;33m)\u001b[0m\u001b[1;33m)\u001b[0m\u001b[1;33m\u001b[0m\u001b[0m\n",
      "\u001b[1;31mValueError\u001b[0m: expected square matrix"
     ]
    }
   ],
   "source": [
    "print \"The determinant of C is \" + str(linalg.det(C))"
   ]
  },
  {
   "cell_type": "markdown",
   "metadata": {},
   "source": [
    "What happened for C? Make sure you can explain it in your own words."
   ]
  },
  {
   "cell_type": "code",
   "execution_count": 33,
   "metadata": {},
   "outputs": [],
   "source": [
    "# You can take the inverse of a matrix using the inv() function from linalg."
   ]
  },
  {
   "cell_type": "code",
   "execution_count": 17,
   "metadata": {},
   "outputs": [
    {
     "name": "stdout",
     "output_type": "stream",
     "text": [
      "The inverse of A is [[ 1.00000000e+00 -4.61447210e-17  5.03334549e-18  2.93335313e-16]\n",
      " [-7.72874826e-17  1.00000000e+00 -3.24569466e-18  2.32785370e-16]\n",
      " [ 5.12871355e-17  1.08396730e-16  1.00000000e+00 -4.80992582e-16]\n",
      " [-2.52988639e-17 -2.41178753e-16  2.64594993e-17  1.00000000e+00]]\n"
     ]
    }
   ],
   "source": [
    "print \"The inverse of A is \" + str(np.matmul(linalg.inv(A),A))"
   ]
  },
  {
   "cell_type": "code",
   "execution_count": 18,
   "metadata": {},
   "outputs": [
    {
     "name": "stdout",
     "output_type": "stream",
     "text": [
      "The inverse of B is [[ 1. -1.  1.]\n",
      " [ 0.  1. -1.]\n",
      " [ 0.  0.  1.]]\n"
     ]
    }
   ],
   "source": [
    "print \"The inverse of B is \" + str(linalg.inv(B))"
   ]
  },
  {
   "cell_type": "code",
   "execution_count": 19,
   "metadata": {},
   "outputs": [
    {
     "ename": "ValueError",
     "evalue": "expected square matrix",
     "output_type": "error",
     "traceback": [
      "\u001b[1;31m---------------------------------------------------------------------------\u001b[0m",
      "\u001b[1;31mValueError\u001b[0m                                Traceback (most recent call last)",
      "\u001b[1;32m<ipython-input-19-8f83469cff4d>\u001b[0m in \u001b[0;36m<module>\u001b[1;34m()\u001b[0m\n\u001b[1;32m----> 1\u001b[1;33m \u001b[1;32mprint\u001b[0m \u001b[1;34m\"The inverse of C is \"\u001b[0m \u001b[1;33m+\u001b[0m \u001b[0mstr\u001b[0m\u001b[1;33m(\u001b[0m\u001b[0mlinalg\u001b[0m\u001b[1;33m.\u001b[0m\u001b[0minv\u001b[0m\u001b[1;33m(\u001b[0m\u001b[0mC\u001b[0m\u001b[1;33m)\u001b[0m\u001b[1;33m)\u001b[0m\u001b[1;33m\u001b[0m\u001b[0m\n\u001b[0m",
      "\u001b[1;32mc:\\python27\\lib\\site-packages\\scipy\\linalg\\basic.pyc\u001b[0m in \u001b[0;36minv\u001b[1;34m(a, overwrite_a, check_finite)\u001b[0m\n\u001b[0;32m    946\u001b[0m     \u001b[0ma1\u001b[0m \u001b[1;33m=\u001b[0m \u001b[0m_asarray_validated\u001b[0m\u001b[1;33m(\u001b[0m\u001b[0ma\u001b[0m\u001b[1;33m,\u001b[0m \u001b[0mcheck_finite\u001b[0m\u001b[1;33m=\u001b[0m\u001b[0mcheck_finite\u001b[0m\u001b[1;33m)\u001b[0m\u001b[1;33m\u001b[0m\u001b[0m\n\u001b[0;32m    947\u001b[0m     \u001b[1;32mif\u001b[0m \u001b[0mlen\u001b[0m\u001b[1;33m(\u001b[0m\u001b[0ma1\u001b[0m\u001b[1;33m.\u001b[0m\u001b[0mshape\u001b[0m\u001b[1;33m)\u001b[0m \u001b[1;33m!=\u001b[0m \u001b[1;36m2\u001b[0m \u001b[1;32mor\u001b[0m \u001b[0ma1\u001b[0m\u001b[1;33m.\u001b[0m\u001b[0mshape\u001b[0m\u001b[1;33m[\u001b[0m\u001b[1;36m0\u001b[0m\u001b[1;33m]\u001b[0m \u001b[1;33m!=\u001b[0m \u001b[0ma1\u001b[0m\u001b[1;33m.\u001b[0m\u001b[0mshape\u001b[0m\u001b[1;33m[\u001b[0m\u001b[1;36m1\u001b[0m\u001b[1;33m]\u001b[0m\u001b[1;33m:\u001b[0m\u001b[1;33m\u001b[0m\u001b[0m\n\u001b[1;32m--> 948\u001b[1;33m         \u001b[1;32mraise\u001b[0m \u001b[0mValueError\u001b[0m\u001b[1;33m(\u001b[0m\u001b[1;34m'expected square matrix'\u001b[0m\u001b[1;33m)\u001b[0m\u001b[1;33m\u001b[0m\u001b[0m\n\u001b[0m\u001b[0;32m    949\u001b[0m     \u001b[0moverwrite_a\u001b[0m \u001b[1;33m=\u001b[0m \u001b[0moverwrite_a\u001b[0m \u001b[1;32mor\u001b[0m \u001b[0m_datacopied\u001b[0m\u001b[1;33m(\u001b[0m\u001b[0ma1\u001b[0m\u001b[1;33m,\u001b[0m \u001b[0ma\u001b[0m\u001b[1;33m)\u001b[0m\u001b[1;33m\u001b[0m\u001b[0m\n\u001b[0;32m    950\u001b[0m     \u001b[1;31m# XXX: I found no advantage or disadvantage of using finv.\u001b[0m\u001b[1;33m\u001b[0m\u001b[1;33m\u001b[0m\u001b[0m\n",
      "\u001b[1;31mValueError\u001b[0m: expected square matrix"
     ]
    }
   ],
   "source": [
    "print \"The inverse of C is \" + str(linalg.inv(C))"
   ]
  },
  {
   "cell_type": "code",
   "execution_count": 37,
   "metadata": {},
   "outputs": [],
   "source": [
    "# You can find the eigenvalues of a matrix using the\n",
    "# eig function from linalg"
   ]
  },
  {
   "cell_type": "code",
   "execution_count": 20,
   "metadata": {},
   "outputs": [
    {
     "data": {
      "text/plain": [
       "(array([1.+0.j, 1.+0.j, 1.+0.j]),\n",
       " array([[ 1.00000000e+00, -1.00000000e+00,  1.00000000e+00],\n",
       "        [ 0.00000000e+00,  2.22044605e-16, -2.22044605e-16],\n",
       "        [ 0.00000000e+00,  0.00000000e+00,  4.93038066e-32]]))"
      ]
     },
     "execution_count": 20,
     "metadata": {},
     "output_type": "execute_result"
    }
   ],
   "source": [
    "# Run this code\n",
    "linalg.eig(B)"
   ]
  },
  {
   "cell_type": "markdown",
   "metadata": {},
   "source": [
    "Try to understand the output of the above code."
   ]
  },
  {
   "cell_type": "markdown",
   "metadata": {},
   "source": [
    "### Numerical Integration\n",
    "\n",
    "Another popular use of SciPy is numerical integration. SciPy is able to support the integration of functions and systems of ordinary differential equations. We will see examples of both below.\n",
    "\n",
    "#### Integrating Functions\n",
    "Let's learn how to integrate a function of a single variable, x. First run the following chunk of code. "
   ]
  },
  {
   "cell_type": "code",
   "execution_count": 21,
   "metadata": {},
   "outputs": [],
   "source": [
    "from scipy.integrate import quad\n",
    "import matplotlib.pyplot as plt"
   ]
  },
  {
   "cell_type": "markdown",
   "metadata": {},
   "source": [
    "We'll start by integrating $\\cos(x)$ from $-\\pi/2$ to $\\pi/2$."
   ]
  },
  {
   "cell_type": "code",
   "execution_count": 22,
   "metadata": {},
   "outputs": [
    {
     "data": {
      "image/png": "[encoded data removed]",
      "text/plain": [
       "<Figure size 432x288 with 1 Axes>"
      ]
     },
     "metadata": {},
     "output_type": "display_data"
    }
   ],
   "source": [
    "## This chunk of code just plots our function\n",
    "\n",
    "# Let's start with the trig function cos(x)\n",
    "x = np.arange(-np.pi/2 - .1,np.pi/2 + .1,.01)\n",
    "y = np.cos(x)\n",
    "zero = np.zeros((len(x),1))\n",
    "\n",
    "# Showing the function where'd we'd like to integrate\n",
    "plt.plot(x,y)\n",
    "plt.plot(x,zero,color=\"black\")\n",
    "plt.show()"
   ]
  },
  {
   "cell_type": "code",
   "execution_count": 23,
   "metadata": {},
   "outputs": [
    {
     "name": "stdout",
     "output_type": "stream",
     "text": [
      "The area under the curve is approximately 2.0\n",
      "The error from our numerical integration was 2.22044604925e-14\n"
     ]
    }
   ],
   "source": [
    "# We can integrate under that curve as follows\n",
    "res,err = quad(np.cos,-np.pi/2,np.pi/2)\n",
    "print \"The area under the curve is approximately \" + str(res)\n",
    "print \"The error from our numerical integration was \" + str(err)"
   ]
  },
  {
   "cell_type": "markdown",
   "metadata": {},
   "source": [
    "In the function quad() our first argument is the function that we wish to integrate, $\\cos(x)$. The second argument is the lower bound of integration, $-\\pi/2$, and the last argument is the upper bound of integration, $\\pi/2$. Thus we have numerically integrated $\\int\\limits_{-\\pi/2}^{\\pi/2} \\cos(x)dx$.\n",
    "\n",
    "### Exercise\n",
    "\n",
    "Now let's do it with a function that isn't easy to integrate analytically, $e^{x^2}$, say from $0$ to $2$."
   ]
  },
  {
   "cell_type": "code",
   "execution_count": 24,
   "metadata": {},
   "outputs": [
    {
     "data": {
      "text/plain": [
       "[0, 2, 0, 60]"
      ]
     },
     "execution_count": 24,
     "metadata": {},
     "output_type": "execute_result"
    },
    {
     "data": {
      "image/png": "[encoded data removed]",
      "text/plain": [
       "<Figure size 432x288 with 1 Axes>"
      ]
     },
     "metadata": {},
     "output_type": "display_data"
    }
   ],
   "source": [
    "## First Run this code\n",
    "\n",
    "# This defines our function that we want to integrate\n",
    "def func(x):\n",
    "    return np.exp(x ** 2)\n",
    "\n",
    "# Here we'll plot it so we can visualize it\n",
    "x = np.arange(0,2,.001)\n",
    "y = func(x)\n",
    "\n",
    "plt.plot(x,y)\n",
    "plt.xlabel(\"x\")\n",
    "plt.ylabel(\"y\")\n",
    "plt.axis([0,2,0,60])"
   ]
  },
  {
   "cell_type": "code",
   "execution_count": 25,
   "metadata": {},
   "outputs": [
    {
     "name": "stdout",
     "output_type": "stream",
     "text": [
      "The area is approximately 16.4526277655\n",
      "The error was about 1.53243613298e-11\n"
     ]
    }
   ],
   "source": [
    "# Find the area under our curve here\n",
    "res,err = quad(func,0,2)\n",
    "\n",
    "print \"The area is approximately \" + str(res)\n",
    "print \"The error was about \" + str(err)"
   ]
  },
  {
   "cell_type": "markdown",
   "metadata": {},
   "source": [
    "#### Solving Differential Equations\n",
    "\n",
    "We can also use SciPy to solve differential equations and systems of differential equations. We'll start off with an easier example, and then end this notebook with an example that comes from mathematical epidemiology.\n",
    "\n",
    "Let's try this example:\n",
    "\\begin{equation}\n",
    "\\dot{x} = x (r - x).\n",
    "\\end{equation}\n",
    "\n",
    "We can use SciPy to numerically solve $x$ as a function of $t$. Run the following code."
   ]
  },
  {
   "cell_type": "code",
   "execution_count": 26,
   "metadata": {},
   "outputs": [],
   "source": [
    "from scipy.integrate import odeint"
   ]
  },
  {
   "cell_type": "code",
   "execution_count": 27,
   "metadata": {},
   "outputs": [],
   "source": [
    "# first we have to define the system\n",
    "# This has to be done in a very specific way\n",
    "def TheSystem(state,t,r):\n",
    "    # Unpack the state vector\n",
    "    # This means we define the initial conditions for the system\n",
    "    x = state[0]\n",
    "    \n",
    "    # now compute x dot\n",
    "    xd = x*(r-x)\n",
    "    \n",
    "    # Return xd\n",
    "    return [xd]"
   ]
  },
  {
   "cell_type": "code",
   "execution_count": 31,
   "metadata": {},
   "outputs": [
    {
     "data": {
      "image/png": "[encoded data removed]",
      "text/plain": [
       "<Figure size 432x288 with 1 Axes>"
      ]
     },
     "metadata": {},
     "output_type": "display_data"
    }
   ],
   "source": [
    "# Now we'll solve the system for r = 2, from t = 0  to t = 10\n",
    "\n",
    "# Set the intial conditions, x(0)\n",
    "state0 = [3.0]\n",
    "\n",
    "# Set the parameter\n",
    "r = 2\n",
    "params = (r,)\n",
    "\n",
    "# Make your time vector\n",
    "t = np.arange(0.0, 10.0, 0.01)\n",
    "\n",
    "# Now solve the system\n",
    "state = odeint(TheSystem, state0, t, args = params)\n",
    "\n",
    "# Plot the outcome\n",
    "plt.plot(t,state)\n",
    "plt.xlabel(\"t\")\n",
    "plt.ylabel(\"x\")\n",
    "plt.axis([0,10,-5,5])\n",
    "plt.show()"
   ]
  },
  {
   "cell_type": "markdown",
   "metadata": {},
   "source": [
    "## Exercise\n",
    "\n",
    "As an \"Exercise\" we'll work through how to do this for and $SIR$ epidemic model. This type of model tracks how many susceptible (denoted $S$), infected (denoted $I$), and recovered (denoted $R$) people there are in a population over time for a particular disease. Here we assume that once you recover from the disease you are immune for the rest of your life.\n",
    "\n",
    "Here are the governing equations:\n",
    "\\begin{equation}\n",
    "\\begin{array}{l c l}\n",
    "\\dot{S} & = & -\\beta SI \\\\\n",
    "\\dot{I} & = & \\beta SI - \\gamma I \\\\\n",
    "\\dot{R} & = & \\gamma I.\n",
    "\\end{array}\n",
    "\\end{equation}\n",
    "\n",
    "We'll walk through how to solve this in the following code chunks."
   ]
  },
  {
   "cell_type": "code",
   "execution_count": 32,
   "metadata": {},
   "outputs": [],
   "source": [
    "# First we have to define the system\n",
    "def SIR(state,t,beta,gamma):\n",
    "    # unpack the state vector here\n",
    "    S = state[0]\n",
    "    I = state[1]\n",
    "    R = state[2]\n",
    "\n",
    "    \n",
    "    # Compute the system here\n",
    "    Sd = -beta*S*I\n",
    "    Id = beta*S*I - gamma*I\n",
    "    Rd = gamma*I\n",
    "\n",
    "    \n",
    "    # return the state derivatives\n",
    "    return [Sd,Id,Rd]"
   ]
  },
  {
   "cell_type": "code",
   "execution_count": 36,
   "metadata": {},
   "outputs": [
    {
     "data": {
      "image/png": "[encoded data removed]",
      "text/plain": [
       "<Figure size 432x288 with 1 Axes>"
      ]
     },
     "metadata": {},
     "output_type": "display_data"
    }
   ],
   "source": [
    "# Now solve the system for beta = 2, gamma = 1, from t = 0 to 10\n",
    "# Assume that S0 = .9, I0 = .1, and R0 = 0.0\n",
    "\n",
    "# set the initial state\n",
    "state0 = [0.9, 0.1, 0.0]\n",
    "\n",
    "# set the time\n",
    "t = np.arange(0,10,0.01)\n",
    "\n",
    "\n",
    "# set the parameters\n",
    "params = (.5,1)\n",
    "\n",
    "\n",
    "# solve the system\n",
    "state = odeint(SIR, state0, t, params)\n",
    "\n",
    "# Plot the outcome\n",
    "plt.figure()\n",
    "plt.plot(t,state)\n",
    "plt.legend((\"S\",\"I\",\"R\"))\n",
    "plt.axis([-0.1,10,-0.05,1.05])\n",
    "plt.xlabel(\"Time\")\n",
    "plt.ylabel(\"Proportion of Population\")\n",
    "plt.title(\"An SIR Model\")\n",
    "plt.show()"
   ]
  },
  {
   "cell_type": "code",
   "execution_count": null,
   "metadata": {},
   "outputs": [],
   "source": []
  }
 ],
 "metadata": {
  "kernelspec": {
   "display_name": "Python 2",
   "language": "python",
   "name": "python2"
  },
  "language_info": {
   "codemirror_mode": {
    "name": "ipython",
    "version": 2
   },
   "file_extension": ".py",
   "mimetype": "text/x-python",
   "name": "python",
   "nbconvert_exporter": "python",
   "pygments_lexer": "ipython2",
   "version": "2.7.14"
  }
 },
 "nbformat": 4,
 "nbformat_minor": 2
}
