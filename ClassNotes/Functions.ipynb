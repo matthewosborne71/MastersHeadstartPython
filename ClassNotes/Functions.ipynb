{
 "cells": [
  {
   "cell_type": "markdown",
   "metadata": {},
   "source": [
    "# Functions and Objects\n",
    "\n",
    "Today we'll finish laying the groundwork for the rest of the course.\n",
    "\n",
    "### Conjunction Junction What's Your Function?\n",
    "\n",
    "Functions are bits of code that we write to accomplish a specific task. They are extemely important in programming, and can make your code much more legible.\n",
    "\n",
    "We'll see an example of how to write a function in the code below"
   ]
  },
  {
   "cell_type": "code",
   "execution_count": 1,
   "metadata": {},
   "outputs": [],
   "source": [
    "# To define a function you write def, the function name and end with a :\n",
    "def SayHello():\n",
    "    print \"Hello there.\""
   ]
  },
  {
   "cell_type": "code",
   "execution_count": 2,
   "metadata": {},
   "outputs": [
    {
     "name": "stdout",
     "output_type": "stream",
     "text": [
      "Hello there.\n"
     ]
    }
   ],
   "source": [
    "# Now we can call our function anytime we want\n",
    "SayHello()"
   ]
  },
  {
   "cell_type": "code",
   "execution_count": 3,
   "metadata": {},
   "outputs": [],
   "source": [
    "# Some functions require input\n",
    "def Greeting(Name):\n",
    "    print Name + \", hello there.\""
   ]
  },
  {
   "cell_type": "code",
   "execution_count": 4,
   "metadata": {},
   "outputs": [
    {
     "name": "stdout",
     "output_type": "stream",
     "text": [
      "General Kenobi, hello there.\n"
     ]
    }
   ],
   "source": [
    "Name = \"General Kenobi\"\n",
    "\n",
    "Greeting(Name)"
   ]
  },
  {
   "cell_type": "markdown",
   "metadata": {},
   "source": [
    "These functions are nice, but what if we want some output? Then we must insert a return statement"
   ]
  },
  {
   "cell_type": "code",
   "execution_count": 6,
   "metadata": {},
   "outputs": [
    {
     "name": "stdout",
     "output_type": "stream",
     "text": [
      "What is 12 cubed?\n",
      "It's 1728.\n"
     ]
    }
   ],
   "source": [
    "def exp(num,exponent):\n",
    "    return num**exponent\n",
    "\n",
    "print \"What is 12 cubed?\"\n",
    "print \"It's \" + str(exp(12,3)) + \".\""
   ]
  },
  {
   "cell_type": "markdown",
   "metadata": {},
   "source": [
    "### Exercises\n",
    "\n",
    "#### 1. Write a function that will multiply all the numbers in a list.\n",
    "\n",
    "#### 2. Write a function that checks if a number is prime or not.\n",
    "\n",
    "#### 3. Write a function that takes in a string and checks if it is a palindrome."
   ]
  },
  {
   "cell_type": "code",
   "execution_count": 7,
   "metadata": {},
   "outputs": [],
   "source": [
    "# Write your answers here\n",
    "def Product(List):\n",
    "    temp = 1\n",
    "    for i in List:\n",
    "        temp = temp*i\n",
    "        \n",
    "    return temp\n",
    "\n",
    "    \n",
    "    \n",
    "#def IsItPrime(Number):\n",
    "    \n",
    "    \n",
    "    \n",
    "#def IsItPalindrome(String):\n",
    "    \n",
    "    \n",
    "\n",
    "\n"
   ]
  },
  {
   "cell_type": "code",
   "execution_count": 11,
   "metadata": {},
   "outputs": [
    {
     "data": {
      "text/plain": [
       "0"
      ]
     },
     "execution_count": 11,
     "metadata": {},
     "output_type": "execute_result"
    }
   ],
   "source": [
    "3/9"
   ]
  },
  {
   "cell_type": "code",
   "execution_count": 8,
   "metadata": {},
   "outputs": [
    {
     "name": "stdout",
     "output_type": "stream",
     "text": [
      "The product of the numbers in List is 144\n"
     ]
    }
   ],
   "source": [
    "List = [1,2,4,6,3]\n",
    "print \"The product of the numbers in List is \" + str(Product(List))\n",
    "\n",
    "Number = 8\n",
    "print \"Is \" + str(Number) + \" prime?\"\n",
    "print IsItPrime(Number)\n",
    "\n",
    "String = \"This is not a palindrome.\"\n",
    "print \"Is '\" + String + \"' a palindrome?\"\n",
    "print IsItPalindrome(String)"
   ]
  },
  {
   "cell_type": "markdown",
   "metadata": {},
   "source": [
    "### Anonymous Functions\n",
    "\n",
    "An anonymous function is a function that is defined without a name. Sometimes we want to use a function without storing it in our system. These are present in many programming languages. In python they are also called 'lambda functions'. Below we'll see the syntax of how to declare an anonymous function.\n",
    "\n"
   ]
  },
  {
   "cell_type": "code",
   "execution_count": 12,
   "metadata": {},
   "outputs": [
    {
     "name": "stdout",
     "output_type": "stream",
     "text": [
      "What is 4 time 20?\n",
      "\n",
      "\n",
      "It is 80\n"
     ]
    }
   ],
   "source": [
    "# To define a lambda function we use lambda as a keyword\n",
    "# Note we typically don't assign a lambda function to a variable\n",
    "# We are just doing this to demonstrate how to declare one\n",
    "# x is the input, after the : comes what the function does\n",
    "quadruple = lambda x: x*4\n",
    "\n",
    "print \"What is 4 time 20?\"\n",
    "print \"\\n\"\n",
    "print \"It is \" + str(quadruple(20))"
   ]
  },
  {
   "cell_type": "markdown",
   "metadata": {},
   "source": [
    "### Helpful functions\n",
    "\n",
    "There are a number of helpful functions that make coding a little easier, and allows us to avoid loops.\n",
    "\n",
    "### Exercise\n",
    "\n",
    "Run the following code:"
   ]
  },
  {
   "cell_type": "code",
   "execution_count": 13,
   "metadata": {},
   "outputs": [],
   "source": [
    "list = [1,2,3,4,5,6,7,8,9,10]"
   ]
  },
  {
   "cell_type": "markdown",
   "metadata": {},
   "source": [
    "Write a code that squares every element in the list."
   ]
  },
  {
   "cell_type": "code",
   "execution_count": 14,
   "metadata": {},
   "outputs": [
    {
     "name": "stdout",
     "output_type": "stream",
     "text": [
      "[1, 2, 3, 4, 5, 6, 7, 8, 9, 10]\n",
      "[1, 4, 9, 16, 25, 36, 49, 64, 81, 100]\n"
     ]
    }
   ],
   "source": [
    "# Write your answer here\n",
    "SquareList = []\n",
    "\n",
    "for number in list:\n",
    "    SquareList.append(number ** 2)\n",
    "\n",
    "print list\n",
    "print SquareList\n",
    "\n",
    "\n"
   ]
  },
  {
   "cell_type": "markdown",
   "metadata": {},
   "source": [
    "We had to use a loop to do that in our answer. However, it is common programming practice to try and avoid loops. Avoiding loops allows for: fewer lines of code, and improved code readability. There are a couple of nice built-in features of python that allow us to avoid loops."
   ]
  },
  {
   "cell_type": "code",
   "execution_count": 15,
   "metadata": {},
   "outputs": [
    {
     "name": "stdout",
     "output_type": "stream",
     "text": [
      "[1, 4, 9, 16, 25, 36, 49, 64, 81, 100]\n"
     ]
    }
   ],
   "source": [
    "# map() is one such feature\n",
    "list = [1,2,3,4,5,6,7,8,9,10]\n",
    "\n",
    "# map applies the lambda function to each element of the list\n",
    "list = map(lambda x: x**2,list)\n",
    "\n",
    "print list"
   ]
  },
  {
   "cell_type": "markdown",
   "metadata": {},
   "source": [
    "Remember the earlier exercise where we multiplied all the elements of a list? We can make that easy using the built-in reduce() function. reduce() takes in a sequence (list, tuple) and reduces it into a single value."
   ]
  },
  {
   "cell_type": "code",
   "execution_count": 17,
   "metadata": {},
   "outputs": [
    {
     "name": "stdout",
     "output_type": "stream",
     "text": [
      "The product of all the numbers in the list is 24\n"
     ]
    }
   ],
   "source": [
    "list = [1,2,3,4]\n",
    "\n",
    "product = reduce(lambda x,y: x*y, list)\n",
    "\n",
    "print \"The product of all the numbers in the list is \" + str(product)"
   ]
  },
  {
   "cell_type": "code",
   "execution_count": null,
   "metadata": {},
   "outputs": [],
   "source": []
  }
 ],
 "metadata": {
  "kernelspec": {
   "display_name": "Python 2",
   "language": "python",
   "name": "python2"
  },
  "language_info": {
   "codemirror_mode": {
    "name": "ipython",
    "version": 2
   },
   "file_extension": ".py",
   "mimetype": "text/x-python",
   "name": "python",
   "nbconvert_exporter": "python",
   "pygments_lexer": "ipython2",
   "version": "2.7.14"
  }
 },
 "nbformat": 4,
 "nbformat_minor": 2
}
