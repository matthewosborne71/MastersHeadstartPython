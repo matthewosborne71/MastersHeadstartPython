{
 "cells": [
  {
   "cell_type": "markdown",
   "metadata": {},
   "source": [
    "# Python Basics II\n",
    "\n",
    "We'll continue with python basics today. This may or may not be the last day we work on the basics it just depends on our pace today.\n",
    "\n",
    "Last time we covered printing, basic data types, and introduced lists.\n",
    "\n",
    "## More Data Structures\n",
    "\n",
    "### Tuples\n",
    "\n",
    "Tuples are similar to lists but have a couple differences that we'll see below"
   ]
  },
  {
   "cell_type": "code",
   "execution_count": 12,
   "metadata": {
    "collapsed": true
   },
   "outputs": [
    {
     "name": "stdout",
     "output_type": "stream",
     "text": [
      "('apple', 1, True, 4.3, [1, 2, 3])\n",
      "Tuple1 is a <type 'tuple'>\n",
      "\n",
      "(2, 4.53, 'Go Buckeyes!', ('Now there are two of them', 2, 4.5, False))\n",
      "Tuple2 is a <type 'tuple'>\n"
     ]
    }
   ],
   "source": [
    "# Declare a tuple in any of the following ways\n",
    "Tuple1 = \"apple\",1,True,4.30,[1,2,3]\n",
    "print Tuple1\n",
    "print \"Tuple1 is a \" + str(type(Tuple1)) + \"\\n\"\n",
    "\n",
    "Tuple2 = (2,4.53,\"Go Buckeyes!\",(\"Now there are two of them\",2,4.5,False))\n",
    "print Tuple2\n",
    "print \"Tuple2 is a \" + str(type(Tuple2))"
   ]
  },
  {
   "cell_type": "markdown",
   "metadata": {},
   "source": [
    "### Exercises\n",
    "\n",
    "#### 1. Write up a tuple that has 6 items in it, and name it Arthur.\n",
    "\n",
    "#### 2. Print the 4th item in your tuple.\n",
    "\n",
    "#### 3. Run the following code: Arthur[4] = 12\n",
    "\n",
    "#### 4. What happened in number 3?"
   ]
  },
  {
   "cell_type": "code",
   "execution_count": 6,
   "metadata": {},
   "outputs": [],
   "source": [
    "# You can work on the exercises here\n",
    "\n",
    "\n",
    "\n"
   ]
  },
  {
   "cell_type": "markdown",
   "metadata": {},
   "source": [
    "### Dictionaries\n",
    "\n",
    "Dictionaries are similar to lists or tuples, however here the values are indexed by special \"keys\". Let's see an example of what this means."
   ]
  },
  {
   "cell_type": "code",
   "execution_count": 8,
   "metadata": {
    "collapsed": true
   },
   "outputs": [
    {
     "name": "stdout",
     "output_type": "stream",
     "text": [
      "I went to Toledo, we were the Rockets.\n",
      "Go Rockets!!!!\n"
     ]
    }
   ],
   "source": [
    "# Dictionaries are surrounded by brackets, here the keys are surrounded by ''\n",
    "Mascots = {'Ohio State': \"Buckeyes\", 'Toledo': \"Rockets\", 'Michigan': \"Wolverines\", 'UCLA': \"Bruins\", 'Oregon': \"Ducks\"}\n",
    "\n",
    "# We can now index by the keys\n",
    "print \"I went to Toledo, we were the \" + Mascots['Toledo'] +\".\"\n",
    "print \"Go \" + Mascots['Toledo'] + \"!!!!\""
   ]
  },
  {
   "cell_type": "markdown",
   "metadata": {},
   "source": [
    "### Exercises\n",
    "\n",
    "#### 1. Use a dictionary to write a menu of 5 food items and their prices. What should the keys be?\n",
    "\n",
    "#### 2. So many people want fish sticks that you decide to add them to your menu. Change your dictionary to reflect that.\n",
    "\n",
    "#### 3. I'm a hungry customer and I want some fish sticks. How much do they cost?"
   ]
  },
  {
   "cell_type": "markdown",
   "metadata": {},
   "source": [
    "### Sets\n",
    "\n",
    "Python sets are just like mathematical sets. Python even has a number of built in set functions that cover any set operation that you could want to perform. These come in handy in a number of situations, so we'll introduce how to make them. You can look up all of the operations here: https://docs.python.org/2.7/library/sets.html?highlight=sets#module-sets"
   ]
  },
  {
   "cell_type": "code",
   "execution_count": 11,
   "metadata": {
    "collapsed": true
   },
   "outputs": [
    {
     "name": "stdout",
     "output_type": "stream",
     "text": [
      "Here's the intersection of SomeIntegers and SomeEvens:\n",
      "set([2, 2222])\n"
     ]
    }
   ],
   "source": [
    "SomeIntegers = set([1,2,3,-1,71,-12098,2222])\n",
    "\n",
    "SomeEvens = set([2,4,6,8,20,40,46,2222])\n",
    "\n",
    "print \"Here's the intersection of SomeIntegers and SomeEvens:\" \n",
    "print str(SomeIntegers.intersection(SomeEvens))"
   ]
  },
  {
   "cell_type": "markdown",
   "metadata": {},
   "source": [
    "## If, Else, and Loops"
   ]
  }
 ],
 "metadata": {
  "kernelspec": {
   "display_name": "Python 2",
   "language": "python",
   "name": "python2"
  },
  "language_info": {
   "codemirror_mode": {
    "name": "ipython",
    "version": 2
   },
   "file_extension": ".py",
   "mimetype": "text/x-python",
   "name": "python",
   "nbconvert_exporter": "python",
   "pygments_lexer": "ipython2",
   "version": "2.7.14"
  }
 },
 "nbformat": 4,
 "nbformat_minor": 2
}
