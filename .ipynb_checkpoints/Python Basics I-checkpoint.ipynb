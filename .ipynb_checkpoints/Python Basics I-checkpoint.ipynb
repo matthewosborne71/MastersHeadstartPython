{
 "cells": [
  {
   "cell_type": "markdown",
   "metadata": {},
   "source": [
    "# Python Basics I\n",
    "In this notebook we'll be going over the absolute basics of python. The first two classes may be a little slow, but we'll start doing some fun stuff by Class 3.\n",
    "\n",
    "### Hello World!\n",
    "Let's get started with the simplest coding example, 'Hello World!'. Many times in a program you want to be able to write a statement to the console so you can see what your program is doing. In python print something is really easy, you just have to write print! Run the following code and see what the output is."
   ]
  },
  {
   "cell_type": "code",
   "execution_count": null,
   "metadata": {},
   "outputs": [],
   "source": [
    "print \"Hello World!\""
   ]
  },
  {
   "cell_type": "markdown",
   "metadata": {},
   "source": [
    "The phrase 'Hello World!' is in quotes because it is a str. You should only print strings even though you can print anything."
   ]
  },
  {
   "cell_type": "code",
   "execution_count": 1,
   "metadata": {
    "collapsed": true
   },
   "outputs": [
    {
     "name": "stdout",
     "output_type": "stream",
     "text": [
      "1\n",
      "3.4\n",
      "True\n"
     ]
    }
   ],
   "source": [
    "# Here we're printing an integer\n",
    "print 1\n",
    "\n",
    "# Here we're printing a float\n",
    "print 3.4\n",
    "\n",
    "# Here we're printing a boolean\n",
    "print True"
   ]
  },
  {
   "cell_type": "markdown",
   "metadata": {},
   "source": [
    "Notice that all of those worked even though they aren't strings, but what about the following?"
   ]
  },
  {
   "cell_type": "code",
   "execution_count": null,
   "metadata": {},
   "outputs": [],
   "source": [
    "#We're concatenating a string with a boolean, what happens?\n",
    "print \"Does this work?\" + True"
   ]
  },
  {
   "cell_type": "markdown",
   "metadata": {},
   "source": [
    "Oh no! We can only concatenate strings which caused an error.\n",
    "\n",
    "### Variables\n",
    "\n",
    "Sometimes we need to store things for later, do that with a variable. Here's an example!"
   ]
  },
  {
   "cell_type": "code",
   "execution_count": 2,
   "metadata": {
    "collapsed": true
   },
   "outputs": [
    {
     "name": "stdout",
     "output_type": "stream",
     "text": [
      "One gross is equal to 144\n",
      "Apples are good\n",
      "Kale is bad\n"
     ]
    }
   ],
   "source": [
    "Apples = \"good\"\n",
    "Kale = \"bad\"\n",
    "OneGross = 144\n",
    "\n",
    "print \"One gross is equal to \" + str(OneGross)\n",
    "print \"Apples are \" + str(Apples)\n",
    "print \"Kale is \" + str(Kale)"
   ]
  },
  {
   "cell_type": "markdown",
   "metadata": {},
   "source": [
    "### Shopping List\n",
    "What if we want to store a bunch of things at once with only one variable? Python has a few ways to handle this, but we'll start with lists.\n",
    "\n",
    "Let's go to the grocery store! I better take my list so I know what I need"
   ]
  },
  {
   "cell_type": "code",
   "execution_count": null,
   "metadata": {},
   "outputs": [],
   "source": [
    "# Lists are denoted by brackets and items in the list are separated by commas\n",
    "Groceries = [\"Apples\",\"Bananas\",\"Cheese\",\"Beef\"]\n",
    "\n",
    "# What's the first thing I should buy?\n",
    "print Groceries[0]\n",
    "\n",
    "# What's the second to last thing?\n",
    "print Groceries[-2]\n",
    "\n",
    "# Oh no I forgot buns! I better add it to the list\n",
    "Groceries.append(\"Buns\")\n",
    "print Groceries\n",
    "\n",
    "# I forgot lettuce and tomatoes!\n",
    "Grocieries.extend([\"Lettuce\",\"Tomatoes\"])\n",
    "print Groceries"
   ]
  },
  {
   "cell_type": "markdown",
   "metadata": {},
   "source": [
    "### \"Homework\"\n",
    "\n",
    "#### 1. Can you replace Bananas with Strawberries in the Groceries list?\n",
    "\n",
    "#### 2. Insert Chips between Strawberries and Cheese.\n",
    "\n",
    "#### 2. What would Groceries.pop() do?\n",
    "\n",
    "#### 3. What about Groceries.pop([2])?\n",
    "\n",
    "#### 4. Can you make a list of lists? What about a list of lists of lists?"
   ]
  },
  {
   "cell_type": "code",
   "execution_count": null,
   "metadata": {},
   "outputs": [],
   "source": []
  }
 ],
 "metadata": {
  "kernelspec": {
   "display_name": "Python 2",
   "language": "python",
   "name": "python2"
  },
  "language_info": {
   "codemirror_mode": {
    "name": "ipython",
    "version": 2
   },
   "file_extension": ".py",
   "mimetype": "text/x-python",
   "name": "python",
   "nbconvert_exporter": "python",
   "pygments_lexer": "ipython2",
   "version": "2.7.14"
  }
 },
 "nbformat": 4,
 "nbformat_minor": 2
}
